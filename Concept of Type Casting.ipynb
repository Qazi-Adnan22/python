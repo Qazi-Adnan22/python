{
 "cells": [
  {
   "cell_type": "code",
   "execution_count": null,
   "id": "177db03b-358c-4765-b2a4-495f04a49b37",
   "metadata": {},
   "outputs": [],
   "source": [
    "#1. Integer (int)>> Converts a value to an integer.\n",
    "#From Float: Converts a floating-point number to an integer by truncating the decimal part.\n",
    "float_number = 3.14\n",
    "int_number = int(float_number)  # int_number is 3\n",
    "\n",
    "#From String: Converts a numeric string to an integer. The string must be a valid integer representation.\n",
    "str_number = \"42\"\n",
    "int_number = int(str_number)  # int_number is 42"
   ]
  },
  {
   "cell_type": "code",
   "execution_count": 3,
   "id": "629f8443-a633-4ecc-a29f-db2342c4e169",
   "metadata": {},
   "outputs": [
    {
     "name": "stdout",
     "output_type": "stream",
     "text": [
      "5\n",
      "123\n"
     ]
    }
   ],
   "source": [
    "#Example:\n",
    "print(int(5.9))  \n",
    "print(int(\"123\"))  "
   ]
  },
  {
   "cell_type": "code",
   "execution_count": 4,
   "id": "f3ad815c-f664-43d1-a985-c6fd506d2a45",
   "metadata": {},
   "outputs": [],
   "source": [
    "#2. Float (float)>> Converts a value to a floating-point number.\n",
    "#From Integer: Converts an integer to a float.\n",
    "int_number = 5\n",
    "float_number = float(int_number)  # float_number is 5.0\n",
    "\n",
    "#From String: Converts a numeric string to a float. The string must be a valid float representation.\n",
    "str_number = \"3.14\"\n",
    "float_number = float(str_number)  # float_number is 3.14"
   ]
  },
  {
   "cell_type": "code",
   "execution_count": 7,
   "id": "eb54b10a-364d-4cea-aea3-6c2384ff7be5",
   "metadata": {},
   "outputs": [
    {
     "name": "stdout",
     "output_type": "stream",
     "text": [
      "10.0\n",
      "2.718\n"
     ]
    }
   ],
   "source": [
    "#Example:\n",
    "print(float(10)) \n",
    "print(float(\"2.718\"))  "
   ]
  },
  {
   "cell_type": "code",
   "execution_count": null,
   "id": "33dce0cc-1779-43dd-8957-abc4b51d4bc9",
   "metadata": {},
   "outputs": [],
   "source": [
    "#3. String (str)>> Converts a value to a string.\n",
    "#From Integer: Converts an integer to a string.\n",
    "int_number = 42\n",
    "str_number = str(int_number)  # str_number is \"42\"\n",
    "\n",
    "#From Float: Converts a floating-point number to a string.\n",
    "float_number = 3.14\n",
    "str_number = str(float_number)  # str_number is \"3.14\""
   ]
  },
  {
   "cell_type": "code",
   "execution_count": 8,
   "id": "d1517472-4dd9-43d9-96e9-a9e8df40f320",
   "metadata": {},
   "outputs": [
    {
     "name": "stdout",
     "output_type": "stream",
     "text": [
      "123\n",
      "98.6\n"
     ]
    }
   ],
   "source": [
    "#Example:\n",
    "print(str(123)) \n",
    "print(str(98.6))  "
   ]
  },
  {
   "cell_type": "code",
   "execution_count": null,
   "id": "17536b00-b305-41c0-b763-20867fc32d27",
   "metadata": {},
   "outputs": [],
   "source": [
    "#4. List (list)>> Converts an iterable (like a string or tuple) to a list.\n",
    "#From String: Converts a string into a list of characters.\n",
    "str_value = \"hello\"\n",
    "list_value = list(str_value)  # list_value is ['h', 'e', 'l', 'l', 'o']\n",
    "\n",
    "#From Tuple: Converts a tuple to a list.\n",
    "tuple_value = (1, 2, 3)\n",
    "list_value = list(tuple_value)  # list_value is [1, 2, 3]"
   ]
  },
  {
   "cell_type": "code",
   "execution_count": 9,
   "id": "cb0ed23a-56d5-4c68-9c83-acd3e8a6bcb8",
   "metadata": {},
   "outputs": [
    {
     "name": "stdout",
     "output_type": "stream",
     "text": [
      "['a', 'b', 'c']\n",
      "[1, 2, 3]\n"
     ]
    }
   ],
   "source": [
    "#Example:\n",
    "print(list(\"abc\"))  \n",
    "print(list((1, 2, 3)))  "
   ]
  },
  {
   "cell_type": "code",
   "execution_count": 10,
   "id": "20146c7b-fe56-43b7-8ba1-ecd1cde0f986",
   "metadata": {},
   "outputs": [],
   "source": [
    "#5. Tuple (tuple)>> Converts an iterable to a tuple.\n",
    "#From List: Converts a list to a tuple.\n",
    "list_value = [1, 2, 3]\n",
    "tuple_value = tuple(list_value)  # tuple_value is (1, 2, 3)\n",
    "\n",
    "#From String: Converts a string into a tuple of characters.\n",
    "str_value = \"hello\"\n",
    "tuple_value = tuple(str_value)  # tuple_value is ('h', 'e', 'l', 'l', 'o')"
   ]
  },
  {
   "cell_type": "code",
   "execution_count": 11,
   "id": "4406753b-dd7b-47e0-b5a1-8655f54e2dd8",
   "metadata": {},
   "outputs": [
    {
     "name": "stdout",
     "output_type": "stream",
     "text": [
      "(1, 2, 3)\n",
      "('a', 'b', 'c')\n"
     ]
    }
   ],
   "source": [
    "#Example:\n",
    "print(tuple([1, 2, 3]))  \n",
    "print(tuple(\"abc\"))  "
   ]
  },
  {
   "cell_type": "code",
   "execution_count": null,
   "id": "4fbbacdf-6415-4572-8ea7-f8d39b4cc338",
   "metadata": {},
   "outputs": [],
   "source": [
    "#6. Set (set)>> Converts an iterable to a set.\n",
    "#From List: Converts a list to a set, removing duplicates.\n",
    "list_value = [1, 2, 2, 3]\n",
    "set_value = set(list_value)  # set_value is {1, 2, 3}\n",
    "\n",
    "#From String: Converts a string into a set of characters.\n",
    "str_value = \"hello\"\n",
    "set_value = set(str_value)  # set_value is {'h', 'e', 'l', 'o'}"
   ]
  },
  {
   "cell_type": "code",
   "execution_count": 12,
   "id": "df55a300-8626-438c-9328-d25096978057",
   "metadata": {},
   "outputs": [
    {
     "name": "stdout",
     "output_type": "stream",
     "text": [
      "{1, 2, 3}\n",
      "{'l', 'h', 'e', 'o'}\n"
     ]
    }
   ],
   "source": [
    "#Example:\n",
    "print(set([1, 2, 2, 3])) \n",
    "print(set(\"hello\"))  "
   ]
  }
 ],
 "metadata": {
  "kernelspec": {
   "display_name": "Python 3 (ipykernel)",
   "language": "python",
   "name": "python3"
  },
  "language_info": {
   "codemirror_mode": {
    "name": "ipython",
    "version": 3
   },
   "file_extension": ".py",
   "mimetype": "text/x-python",
   "name": "python",
   "nbconvert_exporter": "python",
   "pygments_lexer": "ipython3",
   "version": "3.10.8"
  }
 },
 "nbformat": 4,
 "nbformat_minor": 5
}
