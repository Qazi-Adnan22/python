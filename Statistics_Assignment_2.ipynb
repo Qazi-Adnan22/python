{
  "nbformat": 4,
  "nbformat_minor": 0,
  "metadata": {
    "colab": {
      "provenance": [],
      "include_colab_link": true
    },
    "kernelspec": {
      "name": "python3",
      "display_name": "Python 3"
    },
    "language_info": {
      "name": "python"
    }
  },
  "cells": [
    {
      "cell_type": "markdown",
      "metadata": {
        "id": "view-in-github",
        "colab_type": "text"
      },
      "source": [
        "<a href=\"https://colab.research.google.com/github/Qazi-Adnan22/python/blob/main/Statistics_Assignment_2.ipynb\" target=\"_parent\"><img src=\"https://colab.research.google.com/assets/colab-badge.svg\" alt=\"Open In Colab\"/></a>"
      ]
    },
    {
      "cell_type": "markdown",
      "source": [
        "Q1. Generate a list of 100 integers containing values between 90 to 130 and store it in the variable `int_list`. After generating the list, find the following:\n",
        "\n",
        "(i) Write a Python function to calculate the mean of a given list of numbers.\n",
        "Create a function to find the median of a list of numbers."
      ],
      "metadata": {
        "id": "gIlr4MQdXIO-"
      }
    },
    {
      "cell_type": "code",
      "source": [
        "import random\n",
        "\n",
        "int_list = [random.randint(90, 130) for _ in range(100)]\n",
        "\n",
        "import statistics\n",
        "\n",
        "def calculate_mean(num_list):\n",
        "    \"\"\"Calculate the mean of a list of numbers.\"\"\"\n",
        "    return sum(num_list) / len(num_list)\n",
        "\n",
        "def calculate_median(num_list):\n",
        "    \"\"\"Calculate the median of a list of numbers.\"\"\"\n",
        "    return statistics.median(num_list)\n",
        "\n",
        "# Example usage:\n",
        "mean_value = calculate_mean(int_list)\n",
        "median_value = calculate_median(int_list)\n",
        "\n",
        "print(\"Mean:\", mean_value)\n",
        "print(\"Median:\", median_value)\n"
      ],
      "metadata": {
        "colab": {
          "base_uri": "https://localhost:8080/"
        },
        "id": "bqfGs0IRXVBd",
        "outputId": "f8f5538f-415d-460e-b815-58b4ba83cef0"
      },
      "execution_count": null,
      "outputs": [
        {
          "output_type": "stream",
          "name": "stdout",
          "text": [
            "Mean: 109.31\n",
            "Median: 110.0\n"
          ]
        }
      ]
    },
    {
      "cell_type": "markdown",
      "source": [
        "  (ii) Develop a program to compute the mode of a list of integers."
      ],
      "metadata": {
        "id": "F0gh89xHXmlW"
      }
    },
    {
      "cell_type": "code",
      "source": [
        "import random\n",
        "from collections import Counter\n",
        "\n",
        "# Generate list of 100 integers between 90 and 130\n",
        "int_list = [random.randint(90, 130) for _ in range(100)]\n",
        "\n",
        "# Function to calculate mode\n",
        "def calculate_mode(num_list):\n",
        "    num_counts = Counter(num_list)\n",
        "    max_count = max(num_counts.values())\n",
        "    modes = [num for num, count in num_counts.items() if count == max_count]\n",
        "    return modes\n",
        "\n",
        "# Calculate mode\n",
        "modes = calculate_mode(int_list)\n",
        "\n",
        "# Print results\n",
        "print(\"Generated List:\")\n",
        "print(int_list[:10], \"...\")  # Display first 10 elements\n",
        "print(\"Modes:\", modes)\n"
      ],
      "metadata": {
        "colab": {
          "base_uri": "https://localhost:8080/"
        },
        "id": "tLhuhkFlYbE7",
        "outputId": "7f25678c-7c4d-4ae8-c890-1a775ffa3b5e"
      },
      "execution_count": null,
      "outputs": [
        {
          "output_type": "stream",
          "name": "stdout",
          "text": [
            "Generated List:\n",
            "[96, 96, 113, 104, 126, 110, 118, 105, 98, 103] ...\n",
            "Modes: [96]\n"
          ]
        }
      ]
    },
    {
      "cell_type": "markdown",
      "source": [
        "  (iii) Implement a function to calculate the weighted mean of a list of values and their corresponding weights."
      ],
      "metadata": {
        "id": "Dpq8fvrcYq-w"
      }
    },
    {
      "cell_type": "code",
      "source": [
        "import random\n",
        "\n",
        "# Generate list of 100 integers between 90 and 130\n",
        "int_list = [random.randint(90, 130) for _ in range(100)]\n",
        "\n",
        "# Generate corresponding weights (random values between 0.1 and 1.0)\n",
        "weights = [round(random.uniform(0.1, 1.0), 2) for _ in range(100)]\n",
        "\n",
        "# Function to calculate weighted mean\n",
        "def weighted_mean(values, weights):\n",
        "    if len(values) != len(weights):\n",
        "        raise ValueError(\"Values and weights must have the same length\")\n",
        "    weighted_sum = sum(val * weight for val, weight in zip(values, weights))\n",
        "    weight_sum = sum(weights)\n",
        "    return weighted_sum / weight_sum\n",
        "\n",
        "# Calculate weighted mean\n",
        "weighted_mean_value = weighted_mean(int_list, weights)\n",
        "\n",
        "# Print results\n",
        "print(\"Generated List:\")\n",
        "print(int_list[:10], \"...\")  # Display first 10 elements\n",
        "print(\"Corresponding Weights:\")\n",
        "print(weights[:10], \"...\")  # Display first 10 weights\n",
        "print(\"Weighted Mean:\", weighted_mean_value)"
      ],
      "metadata": {
        "colab": {
          "base_uri": "https://localhost:8080/"
        },
        "id": "zwNAupAwY6J4",
        "outputId": "ef2caa5d-25fb-40f5-fbed-12631785708c"
      },
      "execution_count": null,
      "outputs": [
        {
          "output_type": "stream",
          "name": "stdout",
          "text": [
            "Generated List:\n",
            "[108, 96, 93, 122, 108, 125, 129, 117, 112, 117] ...\n",
            "Corresponding Weights:\n",
            "[0.4, 0.25, 0.31, 0.11, 0.71, 0.21, 0.15, 0.26, 0.62, 0.5] ...\n",
            "Weighted Mean: 110.4955820207453\n"
          ]
        }
      ]
    },
    {
      "cell_type": "markdown",
      "source": [
        " (iv) Write a Python function to find the geometric mean of a list of positive numbers."
      ],
      "metadata": {
        "id": "TNYWMlZxZF45"
      }
    },
    {
      "cell_type": "code",
      "source": [
        "import random\n",
        "import math\n",
        "import statistics\n",
        "\n",
        "# Generate list of 100 integers between 90 and 130\n",
        "int_list = [random.randint(90, 130) for _ in range(100)]\n",
        "\n",
        "# Function to calculate geometric mean\n",
        "def geometric_mean(numbers):\n",
        "    if any(num <= 0 for num in numbers):\n",
        "        raise ValueError(\"All numbers must be positive\")\n",
        "    return math.exp(math.fsum(math.log(num) for num in numbers) / len(numbers))\n",
        "\n",
        "# Alternative using statistics module (Python 3.8+)\n",
        "def geometric_mean_stats(numbers):\n",
        "    return statistics.geometric_mean(numbers)\n",
        "\n",
        "# Calculate geometric mean\n",
        "geo_mean = geometric_mean(int_list)\n",
        "geo_mean_stats_result = geometric_mean_stats(int_list)\n",
        "\n",
        "# Print results\n",
        "print(\"Generated List:\")\n",
        "print(int_list[:10], \"...\")\n",
        "print(\"Geometric Mean (custom):\", geo_mean)\n",
        "print(\"Geometric Mean (statistics module):\", geo_mean_stats_result)"
      ],
      "metadata": {
        "colab": {
          "base_uri": "https://localhost:8080/"
        },
        "id": "P-EEIGG8ZKVp",
        "outputId": "9b152884-2197-4278-f9f3-6c77d72e7053"
      },
      "execution_count": null,
      "outputs": [
        {
          "output_type": "stream",
          "name": "stdout",
          "text": [
            "Generated List:\n",
            "[123, 106, 107, 98, 129, 92, 101, 123, 123, 94] ...\n",
            "Geometric Mean (custom): 110.53104048918732\n",
            "Geometric Mean (statistics module): 110.53104048918732\n"
          ]
        }
      ]
    },
    {
      "cell_type": "markdown",
      "source": [
        "  (v) Create a program to calculate the harmonic mean of a list of values."
      ],
      "metadata": {
        "id": "03SqPV4-ZVkW"
      }
    },
    {
      "cell_type": "code",
      "source": [
        "import random\n",
        "import statistics\n",
        "\n",
        "# Generate list of 100 integers between 90 and 130\n",
        "int_list = [random.randint(90, 130) for _ in range(100)]\n",
        "\n",
        "# Function to calculate harmonic mean\n",
        "def harmonic_mean(numbers):\n",
        "    if any(num <= 0 for num in numbers):\n",
        "        raise ValueError(\"All numbers must be positive\")\n",
        "    return len(numbers) / sum(1/num for num in numbers)\n",
        "\n",
        "# Alternative using statistics module (Python 3.6+)\n",
        "def harmonic_mean_stats(numbers):\n",
        "    return statistics.harmonic_mean(numbers)\n",
        "\n",
        "# Calculate harmonic mean\n",
        "harm_mean = harmonic_mean(int_list)\n",
        "harm_mean_stats_result = harmonic_mean_stats(int_list)\n",
        "\n",
        "# Print results\n",
        "print(\"Generated List:\")\n",
        "print(int_list[:10], \"...\")\n",
        "print(\"Harmonic Mean (custom):\", harm_mean)\n",
        "print(\"Harmonic Mean (statistics module):\", harm_mean_stats_result)"
      ],
      "metadata": {
        "colab": {
          "base_uri": "https://localhost:8080/"
        },
        "id": "3OVIuSO6ZTqz",
        "outputId": "e0e9f47e-e9bd-4557-9a50-07f927a2467e"
      },
      "execution_count": null,
      "outputs": [
        {
          "output_type": "stream",
          "name": "stdout",
          "text": [
            "Generated List:\n",
            "[101, 116, 99, 122, 111, 108, 127, 124, 110, 120] ...\n",
            "Harmonic Mean (custom): 109.54100960816035\n",
            "Harmonic Mean (statistics module): 109.54100960816031\n"
          ]
        }
      ]
    },
    {
      "cell_type": "markdown",
      "source": [
        "  (vi) Build a function to determine the midrange of a list of numbers (average of the minimum and maximum)."
      ],
      "metadata": {
        "id": "IKjHF-bBZUPG"
      }
    },
    {
      "cell_type": "code",
      "source": [
        "import random\n",
        "\n",
        "# Generate list of 100 integers between 90 and 130\n",
        "int_list = [random.randint(90, 130) for _ in range(100)]\n",
        "\n",
        "# Function to calculate midrange\n",
        "def midrange(numbers):\n",
        "    return (min(numbers) + max(numbers)) / 2\n",
        "\n",
        "# Calculate midrange\n",
        "midrange_value = midrange(int_list)\n",
        "\n",
        "# Print results\n",
        "print(\"Generated List:\")\n",
        "print(int_list[:10], \"...\")\n",
        "print(\"Midrange:\", midrange_value)"
      ],
      "metadata": {
        "colab": {
          "base_uri": "https://localhost:8080/"
        },
        "id": "qo58zUiJZoON",
        "outputId": "a3ee7006-204c-4773-e4fb-93d71ea2ba24"
      },
      "execution_count": null,
      "outputs": [
        {
          "output_type": "stream",
          "name": "stdout",
          "text": [
            "Generated List:\n",
            "[92, 119, 102, 125, 105, 105, 102, 126, 124, 110] ...\n",
            "Midrange: 110.0\n"
          ]
        }
      ]
    },
    {
      "cell_type": "markdown",
      "source": [
        "(vii) Implement a Python program to find the trimmed mean of a list, excluding a certain percentage of\n",
        "outliers."
      ],
      "metadata": {
        "id": "UnnS4SGZZg7O"
      }
    },
    {
      "cell_type": "code",
      "source": [
        "import random\n",
        "import numpy as np\n",
        "\n",
        "# Generate list of 100 integers between 90 and 130\n",
        "int_list = [random.randint(90, 130) for _ in range(100)]\n",
        "\n",
        "# Function to calculate trimmed mean\n",
        "def trimmed_mean(data, percentage):\n",
        "    lower_bound = np.percentile(data, percentage)\n",
        "    upper_bound = np.percentile(data, 100 - percentage)\n",
        "    trimmed_data = [x for x in data if lower_bound <= x <= upper_bound]\n",
        "    return np.mean(trimmed_data)\n",
        "\n",
        "# Calculate trimmed mean (excluding 10% outliers)\n",
        "trimmed_mean_value = trimmed_mean(int_list, 10)\n",
        "\n",
        "# Print results\n",
        "print(\"Generated List:\")\n",
        "print(int_list[:10], \"...\")\n",
        "print(\"Trimmed Mean (10% outliers excluded):\", trimmed_mean_value)"
      ],
      "metadata": {
        "colab": {
          "base_uri": "https://localhost:8080/"
        },
        "id": "mOycVnnNZ1NM",
        "outputId": "0caa4832-ddd5-4aeb-c8c7-69db94989040"
      },
      "execution_count": null,
      "outputs": [
        {
          "output_type": "stream",
          "name": "stdout",
          "text": [
            "Generated List:\n",
            "[100, 102, 117, 108, 119, 100, 101, 126, 99, 124] ...\n",
            "Trimmed Mean (10% outliers excluded): 110.0609756097561\n"
          ]
        }
      ]
    },
    {
      "cell_type": "markdown",
      "source": [
        "Q2. Generate a list of 500 integers containing values between 200 to 300 and store it in the variable `int_list2`.\n",
        "After generating the list, find the following:\n",
        "\n",
        "\n",
        "  (i) Compare the given list of visualization for the given data:\n",
        "\n",
        "\n",
        "\n",
        "    1. Frequency & Gaussian distribution\n",
        "\n",
        "    2. Frequency smoothened KDE plot\n",
        "\n",
        "    3. Gaussian distribution & smoothened KDE plot"
      ],
      "metadata": {
        "id": "33veMhDUaAek"
      }
    },
    {
      "cell_type": "code",
      "source": [
        "import random\n",
        "import matplotlib.pyplot as plt\n",
        "import seaborn as sns\n",
        "from scipy import stats\n",
        "\n",
        "# Generate list of 500 integers between 200 and 300\n",
        "int_list2 = [random.randint(200, 300) for _ in range(500)]\n",
        "\n",
        "# Frequency and Gaussian Distribution\n",
        "plt.figure(figsize=(10, 6))\n",
        "sns.histplot(int_list2, bins=20, kde=True)\n",
        "plt.title('Frequency & Gaussian Distribution')\n",
        "plt.xlabel('Value')\n",
        "plt.ylabel('Frequency')\n",
        "plt.show()\n",
        "\n",
        "# Frequency Smoothened KDE Plot\n",
        "plt.figure(figsize=(10, 6))\n",
        "sns.kdeplot(int_list2, shade=True)\n",
        "plt.title('Frequency Smoothened KDE Plot')\n",
        "plt.xlabel('Value')\n",
        "plt.ylabel('Density')\n",
        "plt.show()\n",
        "\n",
        "# Gaussian Distribution & Smoothened KDE Plot\n",
        "plt.figure(figsize=(10, 6))\n",
        "sns.histplot(int_list2, bins=20, kde=True)\n",
        "sns.kdeplot(int_list2, shade=True, color='red')\n",
        "plt.title('Gaussian Distribution & Smoothened KDE Plot')\n",
        "plt.xlabel('Value')\n",
        "plt.ylabel('Frequency')\n",
        "plt.show()"
      ],
      "metadata": {
        "colab": {
          "base_uri": "https://localhost:8080/",
          "height": 1000
        },
        "id": "Z5MLAfJQZ_Gv",
        "outputId": "2bfdff39-7d0e-4d66-869d-75a3e400a171"
      },
      "execution_count": null,
      "outputs": [
        {
          "output_type": "display_data",
          "data": {
            "text/plain": [
              "<Figure size 1000x600 with 1 Axes>"
            ],
            "image/png": "[encoded data removed]"
          },
          "metadata": {}
        },
        {
          "output_type": "stream",
          "name": "stderr",
          "text": [
            "<ipython-input-10-a715ccfda112>:19: FutureWarning: \n",
            "\n",
            "`shade` is now deprecated in favor of `fill`; setting `fill=True`.\n",
            "This will become an error in seaborn v0.14.0; please update your code.\n",
            "\n",
            "  sns.kdeplot(int_list2, shade=True)\n"
          ]
        },
        {
          "output_type": "display_data",
          "data": {
            "text/plain": [
              "<Figure size 1000x600 with 1 Axes>"
            ],
            "image/png": "[encoded data removed]"
          },
          "metadata": {}
        },
        {
          "output_type": "stream",
          "name": "stderr",
          "text": [
            "<ipython-input-10-a715ccfda112>:28: FutureWarning: \n",
            "\n",
            "`shade` is now deprecated in favor of `fill`; setting `fill=True`.\n",
            "This will become an error in seaborn v0.14.0; please update your code.\n",
            "\n",
            "  sns.kdeplot(int_list2, shade=True, color='red')\n"
          ]
        },
        {
          "output_type": "display_data",
          "data": {
            "text/plain": [
              "<Figure size 1000x600 with 1 Axes>"
            ],
            "image/png": "[encoded data removed]"
          },
          "metadata": {}
        }
      ]
    },
    {
      "cell_type": "markdown",
      "source": [
        " (ii) Write a Python function to calculate the range of a given list of numbers."
      ],
      "metadata": {
        "id": "rwhTC5PwaT6a"
      }
    },
    {
      "cell_type": "code",
      "source": [
        "import random\n",
        "\n",
        "# Generate list of 500 integers between 200 and 300\n",
        "int_list2 = [random.randint(200, 300) for _ in range(500)]\n",
        "\n",
        "# Function to calculate range\n",
        "def calculate_range(numbers):\n",
        "    return max(numbers) - min(numbers)\n",
        "\n",
        "# Calculate range\n",
        "range_value = calculate_range(int_list2)\n",
        "\n",
        "# Print results\n",
        "print(\"Generated List:\")\n",
        "print(int_list2[:10], \"...\")\n",
        "print(\"Range:\", range_value)"
      ],
      "metadata": {
        "colab": {
          "base_uri": "https://localhost:8080/"
        },
        "id": "mkHRdKDsaSim",
        "outputId": "9d991c17-0415-4508-8efc-5aeeb4210bf1"
      },
      "execution_count": null,
      "outputs": [
        {
          "output_type": "stream",
          "name": "stdout",
          "text": [
            "Generated List:\n",
            "[236, 270, 256, 210, 237, 299, 288, 269, 249, 255] ...\n",
            "Range: 100\n"
          ]
        }
      ]
    },
    {
      "cell_type": "markdown",
      "source": [
        " (iii) Create a program to find the variance and standard deviation of a list of numbers"
      ],
      "metadata": {
        "id": "BptCgormanlL"
      }
    },
    {
      "cell_type": "code",
      "source": [
        "import random\n",
        "import math\n",
        "\n",
        "# Generate list of 500 integers between 200 and 300\n",
        "int_list2 = [random.randint(200, 300) for _ in range(500)]\n",
        "\n",
        "# Function to calculate variance\n",
        "def calculate_variance(numbers):\n",
        "    mean = sum(numbers) / len(numbers)\n",
        "    variance = sum((x - mean) ** 2 for x in numbers) / len(numbers)\n",
        "    return variance\n",
        "\n",
        "# Function to calculate standard deviation\n",
        "def calculate_std_dev(variance):\n",
        "    return math.sqrt(variance)\n",
        "\n",
        "# Calculate variance and standard deviation\n",
        "variance = calculate_variance(int_list2)\n",
        "std_dev = calculate_std_dev(variance)\n",
        "\n",
        "# Print results\n",
        "print(\"Generated List:\")\n",
        "print(int_list2[:10], \"...\")\n",
        "print(\"Variance:\", variance)\n",
        "print(\"Standard Deviation:\", std_dev)\n"
      ],
      "metadata": {
        "colab": {
          "base_uri": "https://localhost:8080/"
        },
        "id": "8sxjimqwaltE",
        "outputId": "327ac6fe-4a81-4d27-81bd-6687944e7332"
      },
      "execution_count": null,
      "outputs": [
        {
          "output_type": "stream",
          "name": "stdout",
          "text": [
            "Generated List:\n",
            "[261, 233, 227, 235, 275, 290, 249, 243, 213, 220] ...\n",
            "Variance: 791.5456759999994\n",
            "Standard Deviation: 28.13442155083341\n"
          ]
        }
      ]
    },
    {
      "cell_type": "markdown",
      "source": [
        " (iv) Implement a function to compute the interquartile range (IQR) of a list of values."
      ],
      "metadata": {
        "id": "iJaOx_Fka1HR"
      }
    },
    {
      "cell_type": "code",
      "source": [
        "import random\n",
        "import numpy as np\n",
        "\n",
        "# Generate list of 500 integers between 200 and 300\n",
        "int_list2 = [random.randint(200, 300) for _ in range(500)]\n",
        "\n",
        "# Function to calculate IQR\n",
        "def calculate_iqr(data):\n",
        "    q1 = np.percentile(data, 25)\n",
        "    q3 = np.percentile(data, 75)\n",
        "    iqr = q3 - q1\n",
        "    return q1, q3, iqr\n",
        "\n",
        "# Calculate IQR\n",
        "q1, q3, iqr_value = calculate_iqr(int_list2)\n",
        "\n",
        "# Print results\n",
        "print(\"Generated List:\")\n",
        "print(int_list2[:10], \"...\")\n",
        "print(\"Q1 (25th percentile):\", q1)\n",
        "print(\"Q3 (75th percentile):\", q3)\n",
        "print(\"Interquartile Range (IQR):\", iqr_value)\n"
      ],
      "metadata": {
        "colab": {
          "base_uri": "https://localhost:8080/"
        },
        "id": "odF1ATBfa0A7",
        "outputId": "bbb42598-c52c-41ca-b4c2-2c2751c4f2ea"
      },
      "execution_count": null,
      "outputs": [
        {
          "output_type": "stream",
          "name": "stdout",
          "text": [
            "Generated List:\n",
            "[277, 300, 278, 239, 201, 236, 260, 269, 211, 237] ...\n",
            "Q1 (25th percentile): 225.0\n",
            "Q3 (75th percentile): 277.0\n",
            "Interquartile Range (IQR): 52.0\n"
          ]
        }
      ]
    },
    {
      "cell_type": "markdown",
      "source": [
        "(v) Build a program to calculate the coefficient of variation for a dataset."
      ],
      "metadata": {
        "id": "E2kBNNGubCQ6"
      }
    },
    {
      "cell_type": "code",
      "source": [
        "import random\n",
        "import numpy as np\n",
        "\n",
        "# Generate list of 500 integers between 200 and 300\n",
        "int_list2 = [random.randint(200, 300) for _ in range(500)]\n",
        "\n",
        "# Function to calculate coefficient of variation\n",
        "def calculate_cv(data):\n",
        "    mean = np.mean(data)\n",
        "    std_dev = np.std(data)\n",
        "    cv = (std_dev / mean) * 100\n",
        "    return cv\n",
        "\n",
        "# Calculate coefficient of variation\n",
        "cv_value = calculate_cv(int_list2)\n",
        "\n",
        "# Print results\n",
        "print(\"Generated List:\")\n",
        "print(int_list2[:10], \"...\")\n",
        "print(\"Coefficient of Variation (CV): {:.2f}%\".format(cv_value))"
      ],
      "metadata": {
        "colab": {
          "base_uri": "https://localhost:8080/"
        },
        "id": "g6UOsgGPbAtr",
        "outputId": "076f54c7-bbf6-42f6-c020-875fde1a9307"
      },
      "execution_count": null,
      "outputs": [
        {
          "output_type": "stream",
          "name": "stdout",
          "text": [
            "Generated List:\n",
            "[206, 272, 275, 225, 266, 242, 221, 295, 214, 267] ...\n",
            "Coefficient of Variation (CV): 11.84%\n"
          ]
        }
      ]
    },
    {
      "cell_type": "markdown",
      "source": [
        " (vi) Write a Python function to find the mean absolute deviation (MAD) of a list of numbers."
      ],
      "metadata": {
        "id": "iCTILFq2bQC_"
      }
    },
    {
      "cell_type": "code",
      "source": [
        "import random\n",
        "import numpy as np\n",
        "\n",
        "# Generate list of 500 integers between 200 and 300\n",
        "int_list2 = [random.randint(200, 300) for _ in range(500)]\n",
        "\n",
        "# Function to calculate mean absolute deviation\n",
        "def calculate_mad(data):\n",
        "    mean = np.mean(data)\n",
        "    mad = np.mean(np.abs(data - mean))\n",
        "    return mad\n",
        "\n",
        "# Calculate MAD\n",
        "mad_value = calculate_mad(int_list2)\n",
        "\n",
        "# Print results\n",
        "print(\"Generated List:\")\n",
        "print(int_list2[:10], \"...\")\n",
        "print(\"Mean Absolute Deviation (MAD): {:.2f}\".format(mad_value))"
      ],
      "metadata": {
        "colab": {
          "base_uri": "https://localhost:8080/"
        },
        "id": "x95UQsvObO2K",
        "outputId": "5d138088-a1eb-4f6c-b70a-8416045dacf8"
      },
      "execution_count": null,
      "outputs": [
        {
          "output_type": "stream",
          "name": "stdout",
          "text": [
            "Generated List:\n",
            "[280, 268, 278, 276, 204, 226, 220, 289, 254, 299] ...\n",
            "Mean Absolute Deviation (MAD): 25.91\n"
          ]
        }
      ]
    },
    {
      "cell_type": "markdown",
      "source": [
        " (vii) Create a program to calculate the quartile deviation of a list of values."
      ],
      "metadata": {
        "id": "u_0Lv8INbe7w"
      }
    },
    {
      "cell_type": "code",
      "source": [
        "import random\n",
        "import numpy as np\n",
        "\n",
        "# Generate list of 500 integers between 200 and 300\n",
        "int_list2 = [random.randint(200, 300) for _ in range(500)]\n",
        "\n",
        "# Function to calculate quartile deviation\n",
        "def calculate_quartile_deviation(data):\n",
        "    q1 = np.percentile(data, 25)\n",
        "    q3 = np.percentile(data, 75)\n",
        "    quartile_deviation = (q3 - q1) / 2\n",
        "    return q1, q3, quartile_deviation\n",
        "\n",
        "# Calculate quartile deviation\n",
        "q1, q3, quartile_deviation_value = calculate_quartile_deviation(int_list2)\n",
        "\n",
        "# Print results\n",
        "print(\"Generated List:\")\n",
        "print(int_list2[:10], \"...\")\n",
        "print(\"Q1 (25th percentile): {:.2f}\".format(q1))\n",
        "print(\"Q3 (75th percentile): {:.2f}\".format(q3))\n",
        "print(\"Quartile Deviation: {:.2f}\".format(quartile_deviation_value))"
      ],
      "metadata": {
        "colab": {
          "base_uri": "https://localhost:8080/"
        },
        "id": "tbV1eMg-bdaK",
        "outputId": "de2aa0b9-4390-4bf6-d096-f8f2bf2c7d22"
      },
      "execution_count": null,
      "outputs": [
        {
          "output_type": "stream",
          "name": "stdout",
          "text": [
            "Generated List:\n",
            "[272, 250, 264, 240, 218, 239, 229, 297, 238, 252] ...\n",
            "Q1 (25th percentile): 227.00\n",
            "Q3 (75th percentile): 277.00\n",
            "Quartile Deviation: 25.00\n"
          ]
        }
      ]
    },
    {
      "cell_type": "markdown",
      "source": [
        " (viii) Implement a function to find the range-based coefficient of dispersion for a dataset."
      ],
      "metadata": {
        "id": "6s3KrPsRbo2H"
      }
    },
    {
      "cell_type": "code",
      "source": [
        "import random\n",
        "\n",
        "# Generate list of 500 integers between 200 and 300\n",
        "int_list2 = [random.randint(200, 300) for _ in range(500)]\n",
        "\n",
        "# Function to calculate range-based coefficient of dispersion\n",
        "def calculate_dispersion_coefficient(data):\n",
        "    min_value = min(data)\n",
        "    max_value = max(data)\n",
        "    range_value = max_value - min_value\n",
        "    coefficient = range_value / max_value\n",
        "    return coefficient\n",
        "\n",
        "# Calculate range-based coefficient of dispersion\n",
        "dispersion_coefficient = calculate_dispersion_coefficient(int_list2)\n",
        "\n",
        "# Print results\n",
        "print(\"Generated List:\")\n",
        "print(int_list2[:10], \"...\")\n",
        "print(\"Range-Based Coefficient of Dispersion: {:.2f}%\".format(dispersion_coefficient * 100))"
      ],
      "metadata": {
        "colab": {
          "base_uri": "https://localhost:8080/"
        },
        "id": "0Xl1KDVsbtj4",
        "outputId": "76c6f19f-37d9-43fc-d192-38d9bd340802"
      },
      "execution_count": null,
      "outputs": [
        {
          "output_type": "stream",
          "name": "stdout",
          "text": [
            "Generated List:\n",
            "[239, 200, 292, 275, 255, 238, 236, 273, 241, 207] ...\n",
            "Range-Based Coefficient of Dispersion: 33.33%\n"
          ]
        }
      ]
    },
    {
      "cell_type": "markdown",
      "source": [
        "Q3. Write a Python class representing a discrete random variable with methods to calculate its expected\n",
        "value and variance"
      ],
      "metadata": {
        "id": "bK_PYws0b3jB"
      }
    },
    {
      "cell_type": "code",
      "source": [
        "import numpy as np\n",
        "\n",
        "class DiscreteRandomVariable:\n",
        "    def __init__(self, values, probabilities):\n",
        "        \"\"\"\n",
        "        Initialize a discrete random variable.\n",
        "\n",
        "        Args:\n",
        "            values (list): Possible values of the random variable.\n",
        "            probabilities (list): Corresponding probabilities.\n",
        "        \"\"\"\n",
        "        if len(values) != len(probabilities):\n",
        "            raise ValueError(\"Values and probabilities must have the same length.\")\n",
        "        if not np.isclose(sum(probabilities), 1):\n",
        "            raise ValueError(\"Probabilities must sum to 1.\")\n",
        "        self.values = values\n",
        "        self.probabilities = probabilities\n",
        "\n",
        "    def expected_value(self):\n",
        "        \"\"\"\n",
        "        Calculate the expected value of the random variable.\n",
        "\n",
        "        Returns:\n",
        "            float: Expected value.\n",
        "        \"\"\"\n",
        "        return sum(value * probability for value, probability in zip(self.values, self.probabilities))\n",
        "\n",
        "    def variance(self):\n",
        "        \"\"\"\n",
        "        Calculate the variance of the random variable.\n",
        "\n",
        "        Returns:\n",
        "            float: Variance.\n",
        "        \"\"\"\n",
        "        expected_value = self.expected_value()\n",
        "        return sum((value - expected_value) ** 2 * probability for value, probability in zip(self.values, self.probabilities))\n",
        "\n",
        "# Example usage\n",
        "values = [1, 2, 3, 4, 5]\n",
        "probabilities = [0.1, 0.2, 0.3, 0.2, 0.2]\n",
        "random_variable = DiscreteRandomVariable(values, probabilities)\n",
        "\n",
        "print(\"Expected Value:\", random_variable.expected_value())\n",
        "print(\"Variance:\", random_variable.variance())\n"
      ],
      "metadata": {
        "colab": {
          "base_uri": "https://localhost:8080/"
        },
        "id": "HEL3UDeEb2T4",
        "outputId": "311efc8d-ae40-48fc-ac61-075230e5b414"
      },
      "execution_count": null,
      "outputs": [
        {
          "output_type": "stream",
          "name": "stdout",
          "text": [
            "Expected Value: 3.2\n",
            "Variance: 1.56\n"
          ]
        }
      ]
    },
    {
      "cell_type": "markdown",
      "source": [
        "Q4. Implement a program to simulate the rolling of a fair six-sided die and calculate the expected value and\n",
        "variance of the outcomes."
      ],
      "metadata": {
        "id": "P0RpS6pXcRBt"
      }
    },
    {
      "cell_type": "code",
      "source": [
        "\n",
        "\n",
        "import random\n",
        "\n",
        "def roll_die(num_rolls):\n",
        "    \"\"\"Simulate rolling a six-sided die.\"\"\"\n",
        "    return [random.randint(1, 6) for _ in range(num_rolls)]\n",
        "\n",
        "def calculate_expected_value(outcomes):\n",
        "    \"\"\"Calculate expected value.\"\"\"\n",
        "    return sum(outcomes) / len(outcomes)\n",
        "\n",
        "def calculate_variance(outcomes):\n",
        "    \"\"\"Calculate variance.\"\"\"\n",
        "    expected_value = calculate_expected_value(outcomes)\n",
        "    return sum((outcome - expected_value) ** 2 for outcome in outcomes) / len(outcomes)\n",
        "\n",
        "def theoretical_expected_value():\n",
        "    \"\"\"Theoretical expected value for a fair six-sided die.\"\"\"\n",
        "    return (1 + 2 + 3 + 4 + 5 + 6) / 6\n",
        "\n",
        "def theoretical_variance():\n",
        "    \"\"\"Theoretical variance for a fair six-sided die.\"\"\"\n",
        "    # Fix: Use the function directly instead of the variable\n",
        "    expected_value = theoretical_expected_value()\n",
        "    return ((1 - expected_value) ** 2 + (2 - expected_value) ** 2 +\n",
        "            (3 - expected_value) ** 2 + (4 - expected_value) ** 2 +\n",
        "            (5 - expected_value) ** 2 + (6 - expected_value) ** 2) / 6\n",
        "\n",
        "# Simulation parameters\n",
        "num_rolls = 100000\n",
        "\n",
        "# Simulate die rolls\n",
        "outcomes = roll_die(num_rolls)\n",
        "\n",
        "# Calculate simulated expected value and variance\n",
        "simulated_expected_value = calculate_expected_value(outcomes)\n",
        "simulated_variance = calculate_variance(outcomes)\n",
        "\n",
        "# Calculate theoretical expected value and variance\n",
        "# Fix: Rename variable to avoid overwriting the function\n",
        "theoretical_exp_val = theoretical_expected_value()\n",
        "theoretical_var = theoretical_variance()\n",
        "\n",
        "# Print results\n",
        "print(\"Simulated Expected Value:\", simulated_expected_value)\n",
        "print(\"Simulated Variance:\", simulated_variance)\n",
        "print(\"Theoretical Expected Value:\", theoretical_exp_val)\n",
        "print(\"Theoretical Variance:\", theoretical_var)\n"
      ],
      "metadata": {
        "colab": {
          "base_uri": "https://localhost:8080/"
        },
        "id": "pCPSb1aCcPy_",
        "outputId": "46df1b8d-7f1a-4942-f2f4-f755a3bc535b"
      },
      "execution_count": null,
      "outputs": [
        {
          "output_type": "stream",
          "name": "stdout",
          "text": [
            "Simulated Expected Value: 3.49723\n",
            "Simulated Variance: 2.9123723270988866\n",
            "Theoretical Expected Value: 3.5\n",
            "Theoretical Variance: 2.9166666666666665\n"
          ]
        }
      ]
    },
    {
      "cell_type": "markdown",
      "source": [
        "Q5. Create a Python function to generate random samples from a given probability distribution (e.g.,\n",
        "binomial, Poisson) and calculate their mean and variance."
      ],
      "metadata": {
        "id": "Goexl61mdCf7"
      }
    },
    {
      "cell_type": "code",
      "source": [
        "import numpy as np\n",
        "import matplotlib.pyplot as plt\n",
        "from scipy import stats\n",
        "\n",
        "def sample_distribution(dist_type, num_samples, *params):\n",
        "    \"\"\"\n",
        "    Generate random samples from a probability distribution.\n",
        "\n",
        "    Args:\n",
        "        dist_type (str): Distribution type ('binomial' or 'poisson').\n",
        "        num_samples (int): Number of samples.\n",
        "        params: Distribution parameters.\n",
        "\n",
        "    Returns:\n",
        "        samples (list): Random samples.\n",
        "        mean (float): Sample mean.\n",
        "        variance (float): Sample variance.\n",
        "    \"\"\"\n",
        "    if dist_type == 'binomial':\n",
        "        # Binomial distribution parameters: n, p\n",
        "        n, p = params\n",
        "        samples = np.random.binomial(n, p, num_samples)\n",
        "    elif dist_type == 'poisson':\n",
        "        # Poisson distribution parameter: lambda\n",
        "        lam = params[0]\n",
        "        samples = np.random.poisson(lam, num_samples)\n",
        "    else:\n",
        "        raise ValueError(\"Unsupported distribution type.\")\n",
        "\n",
        "    mean = np.mean(samples)\n",
        "    variance = np.var(samples)\n",
        "\n",
        "    return samples, mean, variance\n",
        "\n",
        "# Example usage\n",
        "dist_type = 'binomial'\n",
        "num_samples = 10000\n",
        "n = 10  # number of trials\n",
        "p = 0.5  # probability of success\n",
        "samples, mean, variance = sample_distribution(dist_type, num_samples, n, p)\n",
        "\n",
        "print(f\"Mean: {mean:.4f}\")\n",
        "print(f\"Variance: {variance:.4f}\")\n",
        "\n",
        "# Plot histogram\n",
        "plt.hist(samples, bins=20, density=True)\n",
        "plt.title(f\"{dist_type.capitalize()} Distribution\")\n",
        "plt.xlabel(\"Value\")\n",
        "plt.ylabel(\"Probability\")\n",
        "plt.show()\n",
        "\n",
        "dist_type = 'poisson'\n",
        "num_samples = 10000\n",
        "lam = 5  # rate parameter\n",
        "samples, mean, variance = sample_distribution(dist_type, num_samples, lam)\n",
        "\n",
        "print(f\"Mean: {mean:.4f}\")\n",
        "print(f\"Variance: {variance:.4f}\")\n",
        "\n",
        "# Plot histogram\n",
        "plt.hist(samples, bins=20, density=True)\n",
        "plt.title(f\"{dist_type.capitalize()} Distribution\")\n",
        "plt.xlabel(\"Value\")\n",
        "plt.ylabel(\"Probability\")\n",
        "plt.show()"
      ],
      "metadata": {
        "colab": {
          "base_uri": "https://localhost:8080/",
          "height": 1000
        },
        "id": "5URCDiZFc2XM",
        "outputId": "32fb1ae8-6a6d-4eb4-b706-72df656aeb86"
      },
      "execution_count": null,
      "outputs": [
        {
          "output_type": "stream",
          "name": "stdout",
          "text": [
            "Mean: 4.9963\n",
            "Variance: 2.4967\n"
          ]
        },
        {
          "output_type": "display_data",
          "data": {
            "text/plain": [
              "<Figure size 640x480 with 1 Axes>"
            ],
            "image/png": "[encoded data removed]"
          },
          "metadata": {}
        },
        {
          "output_type": "stream",
          "name": "stdout",
          "text": [
            "Mean: 4.9697\n",
            "Variance: 4.9858\n"
          ]
        },
        {
          "output_type": "display_data",
          "data": {
            "text/plain": [
              "<Figure size 640x480 with 1 Axes>"
            ],
            "image/png": "[encoded data removed]"
          },
          "metadata": {}
        }
      ]
    },
    {
      "cell_type": "markdown",
      "source": [
        "Q6. Write a Python script to generate random numbers from a Gaussian (normal) distribution and compute\n",
        "the mean, variance, and standard deviation of the samples."
      ],
      "metadata": {
        "id": "WjJ7TWyxdfei"
      }
    },
    {
      "cell_type": "code",
      "source": [
        "# prompt: Write a Python script to generate random numbers from a Gaussian (normal) distribution and compute\n",
        "# the mean, variance, and standard deviation of the samples.\n",
        "\n",
        "import numpy as np\n",
        "\n",
        "def gaussian_stats(mu, sigma, num_samples):\n",
        "    \"\"\"\n",
        "    Generates random numbers from a Gaussian distribution and computes statistics.\n",
        "\n",
        "    Args:\n",
        "        mu: Mean of the Gaussian distribution.\n",
        "        sigma: Standard deviation of the Gaussian distribution.\n",
        "        num_samples: Number of random samples to generate.\n",
        "\n",
        "    Returns:\n",
        "        A tuple containing the generated samples, their mean, variance, and standard deviation.\n",
        "    \"\"\"\n",
        "    samples = np.random.normal(loc=mu, scale=sigma, size=num_samples)\n",
        "    mean = np.mean(samples)\n",
        "    variance = np.var(samples)\n",
        "    std_dev = np.std(samples)\n",
        "    return samples, mean, variance, std_dev\n",
        "\n",
        "# Example usage\n",
        "mu = 0  # Mean\n",
        "sigma = 1  # Standard deviation\n",
        "num_samples = 1000\n",
        "\n",
        "samples, mean, variance, std_dev = gaussian_stats(mu, sigma, num_samples)\n",
        "\n",
        "print(\"Generated Samples:\", samples[:20]) # Print first 20 samples\n",
        "print(\"Mean:\", mean)\n",
        "print(\"Variance:\", variance)\n",
        "print(\"Standard Deviation:\", std_dev)"
      ],
      "metadata": {
        "colab": {
          "base_uri": "https://localhost:8080/"
        },
        "id": "wHf7R1e0dT7L",
        "outputId": "cfdb646f-73e9-464b-90b3-c3185c35ff47"
      },
      "execution_count": null,
      "outputs": [
        {
          "output_type": "stream",
          "name": "stdout",
          "text": [
            "Generated Samples: [-1.97814428 -2.07271957  2.8085416  -0.01966664 -0.43808966  1.87578836\n",
            " -0.35805944  0.06548818  0.29902344  0.30570883 -0.74501258  0.77879781\n",
            " -0.43056463  0.19270312  0.39810875  0.12037636  0.25931547  0.04099904\n",
            " -0.52331457  0.16343425]\n",
            "Mean: 0.02031558974479616\n",
            "Variance: 1.007551839161822\n",
            "Standard Deviation: 1.0037688175879056\n"
          ]
        }
      ]
    },
    {
      "cell_type": "markdown",
      "source": [
        "Q7. Use seaborn library to load tips dataset. Find the following from the dataset for the columns total_bill\n",
        "and tip`:\n",
        "\n",
        "(i) Write a Python function that calculates their skewness."
      ],
      "metadata": {
        "id": "af4oK78Gdx4p"
      }
    },
    {
      "cell_type": "code",
      "source": [
        "# prompt: Use seaborn library to load tips dataset. Find the following from the dataset for the columns total_bill\n",
        "# and tip`:\n",
        "#   (i) Write a Python function that calculates their skewness.\n",
        "\n",
        "import seaborn as sns\n",
        "import pandas as pd\n",
        "\n",
        "def calculate_skewness(data):\n",
        "    \"\"\"\n",
        "    Calculates the skewness of a Pandas Series.\n",
        "\n",
        "    Args:\n",
        "        data: A Pandas Series containing numerical data.\n",
        "\n",
        "    Returns:\n",
        "        The skewness of the data.\n",
        "    \"\"\"\n",
        "    return data.skew()\n",
        "\n",
        "\n",
        "# Load the tips dataset\n",
        "tips = sns.load_dataset('tips')\n",
        "\n",
        "# Calculate skewness for 'total_bill'\n",
        "total_bill_skewness = calculate_skewness(tips['total_bill'])\n",
        "print(f\"Skewness of total_bill: {total_bill_skewness}\")\n",
        "\n",
        "# Calculate skewness for 'tip'\n",
        "tip_skewness = calculate_skewness(tips['tip'])\n",
        "print(f\"Skewness of tip: {tip_skewness}\")"
      ],
      "metadata": {
        "colab": {
          "base_uri": "https://localhost:8080/"
        },
        "id": "-baTJkEHd-yR",
        "outputId": "b2f5e136-621a-4aad-e81c-737a907c9929"
      },
      "execution_count": null,
      "outputs": [
        {
          "output_type": "stream",
          "name": "stdout",
          "text": [
            "Skewness of total_bill: 1.1332130376158205\n",
            "Skewness of tip: 1.4654510370979401\n"
          ]
        }
      ]
    },
    {
      "cell_type": "markdown",
      "source": [
        " (ii) Create a program that determines whether the columns exhibit positive skewness, negative skewness, or is\n",
        "approximately symmetric."
      ],
      "metadata": {
        "id": "j1I5YOeufx97"
      }
    },
    {
      "cell_type": "code",
      "source": [
        "# prompt: Use seaborn library to load tips dataset. Find the following from the dataset for the columns total_bill\n",
        "# and tip`:\n",
        "#   (ii) Create a program that determines whether the columns exhibit positive skewness, negative skewness, or is\n",
        "# approximately symmetric.\n",
        "\n",
        "def analyze_skewness(data):\n",
        "    \"\"\"\n",
        "    Analyzes the skewness of a Pandas Series and prints a description.\n",
        "\n",
        "    Args:\n",
        "        data: A Pandas Series containing numerical data.\n",
        "    \"\"\"\n",
        "    skewness = data.skew()\n",
        "    if skewness > 0.5:\n",
        "        print(\"The data is highly positively skewed.\")\n",
        "    elif 0.5 >= skewness > 0:\n",
        "        print(\"The data is moderately positively skewed.\")\n",
        "    elif -0.5 < skewness < 0.5:\n",
        "        print(\"The data is approximately symmetric.\")\n",
        "    elif -0.5 <= skewness < 0:\n",
        "        print(\"The data is moderately negatively skewed.\")\n",
        "    else:\n",
        "        print(\"The data is highly negatively skewed.\")\n",
        "\n",
        "# Load the tips dataset\n",
        "tips = sns.load_dataset('tips')\n",
        "\n",
        "# Analyze skewness for 'total_bill'\n",
        "print(\"Analysis for 'total_bill':\")\n",
        "analyze_skewness(tips['total_bill'])\n",
        "\n",
        "# Analyze skewness for 'tip'\n",
        "print(\"\\nAnalysis for 'tip':\")\n",
        "analyze_skewness(tips['tip'])\n"
      ],
      "metadata": {
        "id": "9ePeUZ04fyYD",
        "colab": {
          "base_uri": "https://localhost:8080/"
        },
        "outputId": "443991be-21d7-45d4-8c00-e02507df881f"
      },
      "execution_count": null,
      "outputs": [
        {
          "output_type": "stream",
          "name": "stdout",
          "text": [
            "Analysis for 'total_bill':\n",
            "The data is highly positively skewed.\n",
            "\n",
            "Analysis for 'tip':\n",
            "The data is highly positively skewed.\n"
          ]
        }
      ]
    },
    {
      "cell_type": "markdown",
      "source": [
        " (iii) Write a function that calculates the covariance between two columns."
      ],
      "metadata": {
        "id": "7oNBbwI7jrwl"
      }
    },
    {
      "cell_type": "code",
      "source": [
        "# prompt:  Use seaborn library to load tips dataset. Find the following from the dataset for the columns total_bill and tip`:(iii) Write a function that calculates the covariance between two columns.\n",
        "\n",
        "import pandas as pd\n",
        "import seaborn as sns\n",
        "\n",
        "def calculate_covariance(data, column1, column2):\n",
        "    \"\"\"\n",
        "    Calculates the covariance between two columns in a Pandas DataFrame.\n",
        "\n",
        "    Args:\n",
        "        data: A Pandas DataFrame.\n",
        "        column1: The name of the first column.\n",
        "        column2: The name of the second column.\n",
        "\n",
        "    Returns:\n",
        "        The covariance between the two columns.\n",
        "    \"\"\"\n",
        "    return data[column1].cov(data[column2])\n",
        "\n",
        "# Load the tips dataset\n",
        "tips = sns.load_dataset('tips')\n",
        "\n",
        "# Calculate covariance between 'total_bill' and 'tip'\n",
        "covariance = calculate_covariance(tips, 'total_bill', 'tip')\n",
        "print(f\"Covariance between total_bill and tip: {covariance}\")"
      ],
      "metadata": {
        "colab": {
          "base_uri": "https://localhost:8080/"
        },
        "id": "pGdwv0Dpjs7q",
        "outputId": "7fb06ccf-ffdc-4f99-83b3-aba9b3b83ca0"
      },
      "execution_count": null,
      "outputs": [
        {
          "output_type": "stream",
          "name": "stdout",
          "text": [
            "Covariance between total_bill and tip: 8.323501629224854\n"
          ]
        }
      ]
    },
    {
      "cell_type": "markdown",
      "source": [
        " (iv) Implement a Python program that calculates the Pearson correlation coefficient between two columns."
      ],
      "metadata": {
        "id": "8-EAvSK-lBRJ"
      }
    },
    {
      "cell_type": "code",
      "source": [
        "# prompt:  Use seaborn library to load tips dataset. Find the following from the dataset for the columns total_bill and tip`:\n",
        "#  (iv) Implement a Python program that calculates the Pearson correlation coefficient between two columns.\n",
        "\n",
        "def calculate_pearson_correlation(data, column1, column2):\n",
        "    \"\"\"\n",
        "    Calculates the Pearson correlation coefficient between two columns in a Pandas DataFrame.\n",
        "\n",
        "    Args:\n",
        "        data: A Pandas DataFrame.\n",
        "        column1: The name of the first column.\n",
        "        column2: The name of the second column.\n",
        "\n",
        "    Returns:\n",
        "        The Pearson correlation coefficient between the two columns.\n",
        "    \"\"\"\n",
        "    return data[column1].corr(data[column2])\n",
        "\n",
        "# Load the tips dataset\n",
        "tips = sns.load_dataset('tips')\n",
        "\n",
        "# Calculate Pearson correlation between 'total_bill' and 'tip'\n",
        "pearson_correlation = calculate_pearson_correlation(tips, 'total_bill', 'tip')\n",
        "print(f\"Pearson correlation between total_bill and tip: {pearson_correlation}\")"
      ],
      "metadata": {
        "colab": {
          "base_uri": "https://localhost:8080/"
        },
        "id": "Q4AlXS4yldP1",
        "outputId": "2574d7f5-93bb-44a8-a083-1f72dc5c2ec8"
      },
      "execution_count": null,
      "outputs": [
        {
          "output_type": "stream",
          "name": "stdout",
          "text": [
            "Pearson correlation between total_bill and tip: 0.6757341092113641\n"
          ]
        }
      ]
    },
    {
      "cell_type": "markdown",
      "source": [
        " (v) Write a script to visualize the correlation between two specific columns in a Pandas DataFrame using\n",
        "scatter plots."
      ],
      "metadata": {
        "id": "-8lnPGqHlaR_"
      }
    },
    {
      "cell_type": "code",
      "source": [
        "# prompt:  Use seaborn library to load tips dataset. Find the following from the dataset for the columns total_bill and tip`:\n",
        "#  (v) Write a script to visualize the correlation between two specific columns in a Pandas DataFrame using\n",
        "# scatter plots.\n",
        "\n",
        "def visualize_correlation(data, column1, column2):\n",
        "    \"\"\"\n",
        "    Visualizes the correlation between two columns in a Pandas DataFrame using a scatter plot.\n",
        "\n",
        "    Args:\n",
        "        data: A Pandas DataFrame.\n",
        "        column1: The name of the first column.\n",
        "        column2: The name of the second column.\n",
        "    \"\"\"\n",
        "    plt.figure(figsize=(8, 6))\n",
        "    sns.scatterplot(x=column1, y=column2, data=data)\n",
        "    plt.title(f\"Scatter Plot of {column1} vs. {column2}\")\n",
        "    plt.xlabel(column1)\n",
        "    plt.ylabel(column2)\n",
        "    plt.show()\n",
        "\n",
        "# Load the tips dataset\n",
        "tips = sns.load_dataset('tips')\n",
        "\n",
        "# Visualize the correlation between 'total_bill' and 'tip'\n",
        "visualize_correlation(tips, 'total_bill', 'tip')"
      ],
      "metadata": {
        "colab": {
          "base_uri": "https://localhost:8080/",
          "height": 564
        },
        "id": "OzDEEWK0lk0V",
        "outputId": "2fca11eb-7d77-4846-ba96-8762f22c7480"
      },
      "execution_count": null,
      "outputs": [
        {
          "output_type": "display_data",
          "data": {
            "text/plain": [
              "<Figure size 800x600 with 1 Axes>"
            ],
            "image/png": "[encoded data removed]"
          },
          "metadata": {}
        }
      ]
    },
    {
      "cell_type": "markdown",
      "source": [
        "Q8. Write a Python function to calculate the probability density function (PDF) of a continuous random\n",
        "variable for a given normal distribution."
      ],
      "metadata": {
        "id": "MfIUO2stlweU"
      }
    },
    {
      "cell_type": "code",
      "source": [
        "import numpy as np\n",
        "import matplotlib.pyplot as plt\n",
        "from scipy import stats\n",
        "\n",
        "def normal_pdf(x, mean=0, std_dev=1):\n",
        "    \"\"\"\n",
        "    Calculate the probability density function (PDF) of a normal distribution.\n",
        "\n",
        "    Args:\n",
        "        x (float or numpy.ndarray): Value(s) at which to evaluate the PDF.\n",
        "        mean (float, optional): Mean of the distribution. Defaults to 0.\n",
        "        std_dev (float, optional): Standard deviation of the distribution. Defaults to 1.\n",
        "\n",
        "    Returns:\n",
        "        float or numpy.ndarray: PDF value(s) at x.\n",
        "    \"\"\"\n",
        "    return np.exp(-((x - mean) / std_dev)**2 / 2) / (std_dev * np.sqrt(2 * np.pi))\n",
        "\n",
        "# Example usage\n",
        "x = np.linspace(-3, 3, 100)\n",
        "mean = 0\n",
        "std_dev = 1\n",
        "\n",
        "pdf_values = normal_pdf(x, mean, std_dev)\n",
        "\n",
        "plt.plot(x, pdf_values)\n",
        "plt.title(\"Normal Distribution PDF\")\n",
        "plt.xlabel(\"x\")\n",
        "plt.ylabel(\"Probability Density\")\n",
        "plt.show()\n",
        "\n",
        "## Alternative Implementation using SciPy\n",
        "\n",
        "def normal_pdf_scipy(x, mean=0, std_dev=1):\n",
        "    \"\"\"\n",
        "    Calculate the probability density function (PDF) of a normal distribution using SciPy.\n",
        "\n",
        "    Args:\n",
        "        x (float or numpy.ndarray): Value(s) at which to evaluate the PDF.\n",
        "        mean (float, optional): Mean of the distribution. Defaults to 0.\n",
        "        std_dev (float, optional): Standard deviation of the distribution. Defaults to 1.\n",
        "\n",
        "    Returns:\n",
        "        float or numpy.ndarray: PDF value(s) at x.\n",
        "    \"\"\"\n",
        "    return stats.norm.pdf(x, loc=mean, scale=std_dev)\n",
        "\n",
        "# Example usage\n",
        "x = np.linspace(-3, 3, 100)\n",
        "mean = 0\n",
        "std_dev = 1\n",
        "\n",
        "pdf_values_scipy = normal_pdf_scipy(x, mean, std_dev)\n",
        "\n",
        "plt.plot(x, pdf_values_scipy)\n",
        "plt.title(\"Normal Distribution PDF (SciPy)\")\n",
        "plt.xlabel(\"x\")\n",
        "plt.ylabel(\"Probability Density\")\n",
        "plt.show()"
      ],
      "metadata": {
        "colab": {
          "base_uri": "https://localhost:8080/",
          "height": 927
        },
        "id": "Kc-PnH0Dlw7c",
        "outputId": "7827320b-e352-4408-90d2-5cdbf99ef775"
      },
      "execution_count": null,
      "outputs": [
        {
          "output_type": "display_data",
          "data": {
            "text/plain": [
              "<Figure size 640x480 with 1 Axes>"
            ],
            "image/png": "[encoded data removed]"
          },
          "metadata": {}
        },
        {
          "output_type": "display_data",
          "data": {
            "text/plain": [
              "<Figure size 640x480 with 1 Axes>"
            ],
            "image/png": "[encoded data removed]"
          },
          "metadata": {}
        }
      ]
    },
    {
      "cell_type": "markdown",
      "source": [
        "Q9. Create a program to calculate the cumulative distribution function (CDF) of exponential distribution."
      ],
      "metadata": {
        "id": "q3GFn9QBmXx0"
      }
    },
    {
      "cell_type": "code",
      "source": [
        "import numpy as np\n",
        "import matplotlib.pyplot as plt\n",
        "from scipy import stats\n",
        "\n",
        "def exponential_cdf(x, lambda_param):\n",
        "    \"\"\"\n",
        "    Calculate the cumulative distribution function (CDF) of an exponential distribution.\n",
        "\n",
        "    Args:\n",
        "        x (float or numpy.ndarray): Value(s) at which to evaluate the CDF.\n",
        "        lambda_param (float): Rate parameter of the distribution.\n",
        "\n",
        "    Returns:\n",
        "        float or numpy.ndarray: CDF value(s) at x.\n",
        "    \"\"\"\n",
        "    return 1 - np.exp(-lambda_param * x)\n",
        "\n",
        "# Alternative implementation using SciPy\n",
        "def exponential_cdf_scipy(x, lambda_param):\n",
        "    \"\"\"\n",
        "    Calculate the cumulative distribution function (CDF) of an exponential distribution using SciPy.\n",
        "\n",
        "    Args:\n",
        "        x (float or numpy.ndarray): Value(s) at which to evaluate the CDF.\n",
        "        lambda_param (float): Rate parameter of the distribution.\n",
        "\n",
        "    Returns:\n",
        "        float or numpy.ndarray: CDF value(s) at x.\n",
        "    \"\"\"\n",
        "    return stats.expon.cdf(x, scale=1/lambda_param)\n",
        "\n",
        "# Example usage\n",
        "x = np.linspace(0, 5, 100)\n",
        "lambda_param = 2\n",
        "\n",
        "cdf_values = exponential_cdf(x, lambda_param)\n",
        "cdf_values_scipy = exponential_cdf_scipy(x, lambda_param)\n",
        "\n",
        "plt.plot(x, cdf_values, label='Custom Implementation')\n",
        "plt.plot(x, cdf_values_scipy, label='SciPy Implementation')\n",
        "plt.title(\"Exponential Distribution CDF\")\n",
        "plt.xlabel(\"x\")\n",
        "plt.ylabel(\"Cumulative Probability\")\n",
        "plt.legend()\n",
        "plt.show()"
      ],
      "metadata": {
        "colab": {
          "base_uri": "https://localhost:8080/",
          "height": 472
        },
        "id": "foY6J7J1mYCr",
        "outputId": "489e7c61-a0fc-4298-f1bb-3de9d3b2ee46"
      },
      "execution_count": null,
      "outputs": [
        {
          "output_type": "display_data",
          "data": {
            "text/plain": [
              "<Figure size 640x480 with 1 Axes>"
            ],
            "image/png": "[encoded data removed]"
          },
          "metadata": {}
        }
      ]
    },
    {
      "cell_type": "markdown",
      "source": [
        "Q10. Write a Python function to calculate the probability mass function (PMF) of Poisson distribution."
      ],
      "metadata": {
        "id": "cdbLN2rYmYP6"
      }
    },
    {
      "cell_type": "code",
      "source": [
        "\n",
        "\n",
        "import numpy as np\n",
        "import matplotlib.pyplot as plt\n",
        "from scipy import stats\n",
        "\n",
        "def poisson_pmf(k, lambda_param):\n",
        "    \"\"\"\n",
        "    Calculate the probability mass function (PMF) of a Poisson distribution.\n",
        "\n",
        "    Args:\n",
        "        k (int or numpy.ndarray): Number of occurrences.\n",
        "        lambda_param (float): Expected value (rate parameter).\n",
        "\n",
        "    Returns:\n",
        "        float or numpy.ndarray: PMF value(s) at k.\n",
        "    \"\"\"\n",
        "    # Use scipy.special.factorial for element-wise factorial calculation\n",
        "    from scipy.special import factorial\n",
        "    return np.exp(-lambda_param) * (lambda_param ** k) / factorial(k)\n",
        "\n",
        "# Alternative implementation using SciPy\n",
        "def poisson_pmf_scipy(k, lambda_param):\n",
        "    \"\"\"\n",
        "    Calculate the probability mass function (PMF) of a Poisson distribution using SciPy.\n",
        "\n",
        "    Args:\n",
        "        k (int or numpy.ndarray): Number of occurrences.\n",
        "        lambda_param (float): Expected value (rate parameter).\n",
        "\n",
        "    Returns:\n",
        "        float or numpy.ndarray: PMF value(s) at k.\n",
        "    \"\"\"\n",
        "    return stats.poisson.pmf(k, lambda_param)\n",
        "\n",
        "# Example usage\n",
        "k_values = np.arange(0, 10)\n",
        "lambda_param = 5\n",
        "\n",
        "pmf_values = poisson_pmf(k_values, lambda_param)\n",
        "pmf_values_scipy = poisson_pmf_scipy(k_values, lambda_param)\n",
        "\n",
        "plt.plot(k_values, pmf_values, label='Custom Implementation')\n",
        "plt.plot(k_values, pmf_values_scipy, label='SciPy Implementation')\n",
        "plt.title(\"Poisson Distribution PMF\")\n",
        "plt.xlabel(\"Number of Occurrences (k)\")\n",
        "plt.ylabel(\"Probability\")\n",
        "plt.legend()\n",
        "plt.show()"
      ],
      "metadata": {
        "colab": {
          "base_uri": "https://localhost:8080/",
          "height": 472
        },
        "id": "xfJSBYGRmYb6",
        "outputId": "c5ded693-d84f-4da7-efc1-60aab018dc4e"
      },
      "execution_count": null,
      "outputs": [
        {
          "output_type": "display_data",
          "data": {
            "text/plain": [
              "<Figure size 640x480 with 1 Axes>"
            ],
            "image/png": "[encoded data removed]"
          },
          "metadata": {}
        }
      ]
    },
    {
      "cell_type": "markdown",
      "source": [
        "Q11. A company wants to test if a new website layout leads to a higher conversion rate (percentage of visitors\n",
        "who make a purchase). They collect data from the old and new layouts to compare.\n",
        "\n",
        "\n",
        "To generate the data use the following command:\n",
        "\n",
        "```python\n",
        "\n",
        "import numpy as np\n",
        "\n",
        "# 50 purchases out of 1000 visitors\n",
        "\n",
        "old_layout = np.array([1] * 50 + [0] * 950)\n",
        "\n",
        "# 70 purchases out of 1000 visitors\n",
        "\n",
        "new_layout = np.array([1] * 70 + [0] * 930)\n",
        "\n",
        "  ```\n",
        "\n",
        "Apply z-test to find which layout is successful"
      ],
      "metadata": {
        "id": "WbX8XYLOmYp8"
      }
    },
    {
      "cell_type": "code",
      "source": [
        "import numpy as np\n",
        "from statsmodels.stats.proportion import proportions_ztest\n",
        "\n",
        "# Data for old and new layouts\n",
        "old_layout = np.array([1] * 50 + [0] * 950)\n",
        "new_layout = np.array([1] * 70 + [0] * 930)\n",
        "\n",
        "# Number of successes (conversions) for each layout\n",
        "conversions_old = old_layout.sum()\n",
        "conversions_new = new_layout.sum()\n",
        "\n",
        "# Number of trials (visitors) for each layout\n",
        "trials_old = len(old_layout)\n",
        "trials_new = len(new_layout)\n",
        "\n",
        "# Perform the z-test\n",
        "z_stat, p_value = proportions_ztest([conversions_old, conversions_new],\n",
        "                                    [trials_old, trials_new],\n",
        "                                    alternative='smaller')  # One-sided test\n",
        "\n",
        "print(f\"Z-statistic: {z_stat:.2f}\")\n",
        "print(f\"P-value: {p_value:.3f}\")\n",
        "\n",
        "# Interpret the results\n",
        "alpha = 0.05  # Significance level\n",
        "if p_value < alpha:\n",
        "    print(\"Reject the null hypothesis. The new layout has a significantly higher conversion rate.\")\n",
        "else:\n",
        "    print(\"Fail to reject the null hypothesis. There is no significant difference in conversion rates.\")"
      ],
      "metadata": {
        "colab": {
          "base_uri": "https://localhost:8080/"
        },
        "id": "zUBYXD8umY6q",
        "outputId": "1bbc6d90-069f-4361-8abb-b22adf1b366d"
      },
      "execution_count": null,
      "outputs": [
        {
          "output_type": "stream",
          "name": "stdout",
          "text": [
            "Z-statistic: -1.88\n",
            "P-value: 0.030\n",
            "Reject the null hypothesis. The new layout has a significantly higher conversion rate.\n"
          ]
        }
      ]
    },
    {
      "cell_type": "markdown",
      "source": [
        "Q12. A tutoring service claims that its program improves students' exam scores. A sample of students who\n",
        "participated in the program was taken, and their scores before and after the program were recorded.\n",
        "\n",
        "\n",
        "Use the below code to generate samples of respective arrays of marks:\n",
        "\n",
        "```python\n",
        "\n",
        "before_program = np.array([75, 80, 85, 70, 90, 78, 92, 88, 82, 87])\n",
        "\n",
        "after_program = np.array([80, 85, 90, 80, 92, 80, 95, 90, 85, 88])\n",
        "\n",
        "```\n",
        "\n",
        "Use z-test to find if the claims made by tutor are true or false."
      ],
      "metadata": {
        "id": "yUZ3yyQpnRta"
      }
    },
    {
      "cell_type": "code",
      "source": [
        "import numpy as np\n",
        "from statsmodels.stats.weightstats import ztest\n",
        "\n",
        "# Sample data\n",
        "before_program = np.array([75, 80, 85, 70, 90, 78, 92, 88, 82, 87])\n",
        "after_program = np.array([80, 85, 90, 80, 92, 80, 95, 90, 85, 88])\n",
        "\n",
        "# Calculate the difference in scores\n",
        "score_diff = after_program - before_program\n",
        "\n",
        "# Perform the paired z-test\n",
        "z_stat, p_value = ztest(score_diff, value=0, alternative='larger')\n",
        "\n",
        "print(f\"Z-statistic: {z_stat:.2f}\")\n",
        "print(f\"P-value: {p_value:.3f}\")\n",
        "\n",
        "# Interpret the results\n",
        "alpha = 0.05  # Significance level\n",
        "if p_value < alpha:\n",
        "    print(\"Reject the null hypothesis. The tutoring program significantly improves exam scores.\")\n",
        "else:\n",
        "    print(\"Fail to reject the null hypothesis. There is no significant evidence that the program improves scores.\")"
      ],
      "metadata": {
        "colab": {
          "base_uri": "https://localhost:8080/"
        },
        "id": "HHzBHcvqnR6_",
        "outputId": "893c836f-df27-4fa4-a2d1-7460f117b18c"
      },
      "execution_count": null,
      "outputs": [
        {
          "output_type": "stream",
          "name": "stdout",
          "text": [
            "Z-statistic: 4.59\n",
            "P-value: 0.000\n",
            "Reject the null hypothesis. The tutoring program significantly improves exam scores.\n"
          ]
        }
      ]
    },
    {
      "cell_type": "markdown",
      "source": [
        "Q13. A pharmaceutical company wants to determine if a new drug is effective in reducing blood pressure. They\n",
        "conduct a study and record blood pressure measurements before and after administering the drug.\n",
        "\n",
        "\n",
        "Use the below code to generate samples of respective arrays of blood pressure:\n",
        "\n",
        "\n",
        "```python\n",
        "\n",
        "before_drug = np.array([145, 150, 140, 135, 155, 160, 152, 148, 130, 138])\n",
        "\n",
        "after_drug = np.array([130, 140, 132, 128, 145, 148, 138, 136, 125, 130])\n",
        "\n",
        "  ```\n",
        "\n",
        "\n",
        "Implement z-test to find if the drug really works or not"
      ],
      "metadata": {
        "id": "6Nae9LXGnSDP"
      }
    },
    {
      "cell_type": "code",
      "source": [
        "# Sample data\n",
        "before_drug = np.array([145, 150, 140, 135, 155, 160, 152, 148, 130, 138])\n",
        "after_drug = np.array([130, 140, 132, 128, 145, 148, 138, 136, 125, 130])\n",
        "\n",
        "# Calculate the difference in blood pressure\n",
        "blood_pressure_diff = before_drug - after_drug\n",
        "\n",
        "# Perform the paired z-test\n",
        "z_stat, p_value = ztest(blood_pressure_diff, value=0, alternative='larger')\n",
        "\n",
        "print(f\"Z-statistic: {z_stat:.2f}\")\n",
        "print(f\"P-value: {p_value:.3f}\")\n",
        "\n",
        "# Interpret the results\n",
        "alpha = 0.05  # Significance level\n",
        "if p_value < alpha:\n",
        "    print(\"Reject the null hypothesis. The drug significantly reduces blood pressure.\")\n",
        "else:\n",
        "    print(\"Fail to reject the null hypothesis. There is no significant evidence that the drug reduces blood pressure.\")"
      ],
      "metadata": {
        "colab": {
          "base_uri": "https://localhost:8080/"
        },
        "id": "r635QKW4nSMY",
        "outputId": "ec3be396-4db6-40d8-b435-9fce5843eb07"
      },
      "execution_count": null,
      "outputs": [
        {
          "output_type": "stream",
          "name": "stdout",
          "text": [
            "Z-statistic: 10.05\n",
            "P-value: 0.000\n",
            "Reject the null hypothesis. The drug significantly reduces blood pressure.\n"
          ]
        }
      ]
    },
    {
      "cell_type": "markdown",
      "source": [
        "Q14. A customer service department claims that their average response time is less than 5 minutes. A sample\n",
        "of recent customer interactions was taken, and the response times were recorded.\n",
        "\n",
        "\n",
        "Implement the below code to generate the array of response time:\n",
        "\n",
        "```python\n",
        "\n",
        "response_times = np.array([4.3, 3.8, 5.1, 4.9, 4.7, 4.2, 5.2, 4.5, 4.6, 4.4])\n",
        "\n",
        "```\n",
        "\n",
        "Implement z-test to find the claims made by customer service department are tru or false."
      ],
      "metadata": {
        "id": "BidqdBU9nSUf"
      }
    },
    {
      "cell_type": "code",
      "source": [
        "import numpy as np\n",
        "from statsmodels.stats.weightstats import ztest\n",
        "\n",
        "# Response time data\n",
        "response_times = np.array([4.3, 3.8, 5.1, 4.9, 4.7, 4.2, 5.2, 4.5, 4.6, 4.4])\n",
        "\n",
        "# Perform the one-sample z-test\n",
        "z_stat, p_value = ztest(response_times, value=5, alternative='smaller')\n",
        "\n",
        "print(f\"Z-statistic: {z_stat:.2f}\")\n",
        "print(f\"P-value: {p_value:.3f}\")\n",
        "\n",
        "# Interpret the results\n",
        "alpha = 0.05  # Significance level\n",
        "if p_value < alpha:\n",
        "    print(\"Reject the null hypothesis. The average response time is significantly less than 5 minutes.\")\n",
        "else:\n",
        "    print(\"Fail to reject the null hypothesis. There is not enough evidence to support the claim that the average response time is less than 5 minutes.\")"
      ],
      "metadata": {
        "colab": {
          "base_uri": "https://localhost:8080/"
        },
        "id": "yAuYS3zlo4E9",
        "outputId": "d6c2c400-d537-48a8-b683-987a87a80390"
      },
      "execution_count": null,
      "outputs": [
        {
          "output_type": "stream",
          "name": "stdout",
          "text": [
            "Z-statistic: -3.18\n",
            "P-value: 0.001\n",
            "Reject the null hypothesis. The average response time is significantly less than 5 minutes.\n"
          ]
        }
      ]
    },
    {
      "cell_type": "markdown",
      "source": [
        "Q15. A company is testing two different website layouts to see which one leads to higher click-through rates.\n",
        "Write a Python function to perform an A/B test analysis, including calculating the t-statistic, degrees of\n",
        "freedom, and p-value.\n",
        "\n",
        "\n",
        "Use the following data:\n",
        "\n",
        "```python\n",
        "\n",
        "layout_a_clicks = [28, 32, 33, 29, 31, 34, 30, 35, 36, 37]\n",
        "\n",
        "layout_b_clicks = [40, 41, 38, 42, 39, 44, 43, 41, 45, 47]"
      ],
      "metadata": {
        "id": "LsbluuE1o4Oa"
      }
    },
    {
      "cell_type": "code",
      "source": [
        "import numpy as np\n",
        "from scipy import stats\n",
        "\n",
        "def ab_test(layout_a_clicks, layout_b_clicks):\n",
        "    \"\"\"\n",
        "    Performs an A/B test analysis using a two-sample t-test.\n",
        "\n",
        "    Args:\n",
        "        layout_a_clicks (list): Clicks for layout A.\n",
        "        layout_b_clicks (list): Clicks for layout B.\n",
        "\n",
        "    Returns:\n",
        "        tuple: t-statistic, degrees of freedom, p-value.\n",
        "    \"\"\"\n",
        "    t_statistic, p_value = stats.ttest_ind(layout_b_clicks, layout_a_clicks)\n",
        "\n",
        "    # Degrees of freedom\n",
        "    degrees_of_freedom = len(layout_a_clicks) + len(layout_b_clicks) - 2\n",
        "\n",
        "    return t_statistic, degrees_of_freedom, p_value\n",
        "\n",
        "# Example usage\n",
        "layout_a_clicks = [28, 32, 33, 29, 31, 34, 30, 35, 36, 37]\n",
        "layout_b_clicks = [40, 41, 38, 42, 39, 44, 43, 41, 45, 47]\n",
        "\n",
        "t_statistic, df, p_value = ab_test(layout_a_clicks, layout_b_clicks)\n",
        "\n",
        "print(f\"T-statistic: {t_statistic:.2f}\")\n",
        "print(f\"Degrees of Freedom: {df}\")\n",
        "print(f\"P-value: {p_value:.3f}\")"
      ],
      "metadata": {
        "colab": {
          "base_uri": "https://localhost:8080/"
        },
        "id": "0ABY3rxoo4ZN",
        "outputId": "1e20ac9c-435c-43c5-8a13-fa80bd379efc"
      },
      "execution_count": null,
      "outputs": [
        {
          "output_type": "stream",
          "name": "stdout",
          "text": [
            "T-statistic: 7.30\n",
            "Degrees of Freedom: 18\n",
            "P-value: 0.000\n"
          ]
        }
      ]
    },
    {
      "cell_type": "markdown",
      "source": [
        "Q16. A pharmaceutical company wants to determine if a new drug is more effective than an existing drug in\n",
        "reducing cholesterol levels. Create a program to analyze the clinical trial data and calculate the t-statistic and p-value for the treatment effect.\n",
        "\n",
        "\n",
        "Use the following data of cholestrol level:\n",
        "\n",
        "```python\n",
        "\n",
        "existing_drug_levels = [180, 182, 175, 185, 178, 176, 172, 184, 179, 183]\n",
        "\n",
        "new_drug_levels = [170, 172, 165, 168, 175, 173, 170, 178, 172, 176]"
      ],
      "metadata": {
        "id": "sr1aRrVIo4nb"
      }
    },
    {
      "cell_type": "code",
      "source": [
        "import numpy as np\n",
        "from scipy import stats\n",
        "\n",
        "def clinical_trial_analysis(existing_drug_levels, new_drug_levels):\n",
        "    \"\"\"\n",
        "    Calculate t-statistic and p-value for treatment effect.\n",
        "\n",
        "    Args:\n",
        "        existing_drug_levels (list): Cholesterol levels for existing drug.\n",
        "        new_drug_levels (list): Cholesterol levels for new drug.\n",
        "\n",
        "    Returns:\n",
        "        dict: Clinical trial results.\n",
        "    \"\"\"\n",
        "\n",
        "    # Calculate means\n",
        "    mean_existing = np.mean(existing_drug_levels)\n",
        "    mean_new = np.mean(new_drug_levels)\n",
        "\n",
        "    # Calculate standard deviations\n",
        "    std_existing = np.std(existing_drug_levels, ddof=1)\n",
        "    std_new = np.std(new_drug_levels, ddof=1)\n",
        "\n",
        "    # Calculate sample sizes\n",
        "    n_existing = len(existing_drug_levels)\n",
        "    n_new = len(new_drug_levels)\n",
        "\n",
        "    # Calculate t-statistic\n",
        "    t_statistic = (mean_new - mean_existing) / np.sqrt((std_existing**2 / n_existing) + (std_new**2 / n_new))\n",
        "\n",
        "    # Calculate degrees of freedom\n",
        "    df = n_existing + n_new - 2\n",
        "\n",
        "    # Calculate p-value (one-tailed test)\n",
        "    p_value = stats.t.sf(abs(t_statistic), df)\n",
        "\n",
        "    return {\n",
        "        \"t-statistic\": t_statistic,\n",
        "        \"degrees_of_freedom\": df,\n",
        "        \"p-value\": p_value,\n",
        "        \"mean_existing\": mean_existing,\n",
        "        \"mean_new\": mean_new,\n",
        "        \"std_existing\": std_existing,\n",
        "        \"std_new\": std_new\n",
        "    }\n",
        "\n",
        "# Example usage\n",
        "existing_drug_levels = [180, 182, 175, 185, 178, 176, 172, 184, 179, 183]\n",
        "new_drug_levels = [170, 172, 165, 168, 175, 173, 170, 178, 172, 176]\n",
        "\n",
        "results = clinical_trial_analysis(existing_drug_levels, new_drug_levels)\n",
        "\n",
        "print(\"Clinical Trial Results:\")\n",
        "print(\"-----------------------\")\n",
        "print(f\"t-statistic: {results['t-statistic']:.4f}\")\n",
        "print(f\"Degrees of Freedom: {results['degrees_of_freedom']}\")\n",
        "print(f\"p-value: {results['p-value']:.4f}\")\n",
        "print(f\"Mean Existing Drug: {results['mean_existing']:.2f}\")\n",
        "print(f\"Mean New Drug: {results['mean_new']:.2f}\")\n",
        "print(f\"Std Dev Existing Drug: {results['std_existing']:.2f}\")\n",
        "print(f\"Std Dev New Drug: {results['std_new']:.2f}\")"
      ],
      "metadata": {
        "colab": {
          "base_uri": "https://localhost:8080/"
        },
        "id": "bP1umZqNo4xw",
        "outputId": "a8a96b25-6a55-4830-fc60-ab87a39115aa"
      },
      "execution_count": null,
      "outputs": [
        {
          "output_type": "stream",
          "name": "stdout",
          "text": [
            "Clinical Trial Results:\n",
            "-----------------------\n",
            "t-statistic: -4.1405\n",
            "Degrees of Freedom: 18\n",
            "p-value: 0.0003\n",
            "Mean Existing Drug: 179.40\n",
            "Mean New Drug: 171.90\n",
            "Std Dev Existing Drug: 4.22\n",
            "Std Dev New Drug: 3.87\n"
          ]
        }
      ]
    },
    {
      "cell_type": "markdown",
      "source": [
        "Q17. A school district introduces an educational intervention program to improve math scores. Write a Python\n",
        "function to analyze pre- and post-intervention test scores, calculating the t-statistic and p-value to\n",
        "determine if the intervention had a significant impact.\n",
        "\n",
        "\n",
        "Use the following data of test score:\n",
        "\n",
        "\n",
        "  ```python\n",
        "\n",
        "  pre_intervention_scores = [80, 85, 90, 75, 88, 82, 92, 78, 85, 87]\n",
        "\n",
        "  post_intervention_scores = [90, 92, 88, 92, 95, 91, 96, 93, 89, 93]"
      ],
      "metadata": {
        "id": "x9U7mh8wo49C"
      }
    },
    {
      "cell_type": "code",
      "source": [
        "from scipy import stats\n",
        "\n",
        "def analyze_intervention(pre_intervention_scores, post_intervention_scores):\n",
        "    \"\"\"\n",
        "    Analyzes pre- and post-intervention test scores using a paired t-test.\n",
        "\n",
        "    Args:\n",
        "        pre_intervention_scores (list): Test scores before the intervention.\n",
        "        post_intervention_scores (list): Test scores after the intervention.\n",
        "\n",
        "    Returns:\n",
        "        tuple: t-statistic, p-value.\n",
        "    \"\"\"\n",
        "    t_statistic, p_value = stats.ttest_rel(pre_intervention_scores, post_intervention_scores)\n",
        "    return t_statistic, p_value\n",
        "\n",
        "# Example usage\n",
        "pre_intervention_scores = [80, 85, 90, 75, 88, 82, 92, 78, 85, 87]\n",
        "post_intervention_scores = [90, 92, 88, 92, 95, 91, 96, 93, 89, 93]\n",
        "\n",
        "t_statistic, p_value = analyze_intervention(pre_intervention_scores, post_intervention_scores)\n",
        "\n",
        "print(f\"T-statistic: {t_statistic:.2f}\")\n",
        "print(f\"P-value: {p_value:.3f}\")\n",
        "\n",
        "# Interpret the results\n",
        "alpha = 0.05  # Significance level\n",
        "if p_value < alpha:\n",
        "    print(\"Reject the null hypothesis. The intervention had a significant impact on math scores.\")\n",
        "else:\n",
        "    print(\"Fail to reject the null hypothesis. There is no significant evidence that the intervention improved scores.\")"
      ],
      "metadata": {
        "colab": {
          "base_uri": "https://localhost:8080/"
        },
        "id": "zCcBzEGBrnMz",
        "outputId": "7f10d1b3-29a7-478a-bc5b-470917a375a4"
      },
      "execution_count": null,
      "outputs": [
        {
          "output_type": "stream",
          "name": "stdout",
          "text": [
            "T-statistic: -4.43\n",
            "P-value: 0.002\n",
            "Reject the null hypothesis. The intervention had a significant impact on math scores.\n"
          ]
        }
      ]
    },
    {
      "cell_type": "markdown",
      "source": [
        "Q18. An HR department wants to investigate if there's a gender-based salary gap within the company. Develop\n",
        "a program to analyze salary data, calculate the t-statistic, and determine if there's a statistically\n",
        "significant difference between the average salaries of male and female employees.\n",
        "\n",
        "\n",
        "Use the below code to generate synthetic data:\n",
        "\n",
        "\n",
        "```python\n",
        "\n",
        "# Generate synthetic salary data for male and female employees\n",
        "\n",
        "np.random.seed(0)  # For reproducibility\n",
        "\n",
        "male_salaries = np.random.normal(loc=50000, scale=10000, size=20)\n",
        "\n",
        "female_salaries = np.random.normal(loc=55000, scale=9000, size=20)\n",
        "\n",
        "  ```"
      ],
      "metadata": {
        "id": "jJJd3IxPrnXs"
      }
    },
    {
      "cell_type": "code",
      "source": [
        "import numpy as np\n",
        "np.random.seed(0)  # For reproducibility\n",
        "male_salaries = np.random.normal(loc=50000, scale=10000, size=20)\n",
        "female_salaries = np.random.normal(loc=55000, scale=9000, size=20)\n",
        "\n",
        "from scipy import stats\n",
        "\n",
        "# Perform t-test\n",
        "t_statistic, p_value = stats.ttest_ind(male_salaries, female_salaries)\n",
        "\n",
        "print(f\"T-statistic: {t_statistic:.2f}\")\n",
        "print(f\"P-value: {p_value:.3f}\")\n",
        "\n",
        "# Interpret the results\n",
        "alpha = 0.05  # Significance level\n",
        "if p_value < alpha:\n",
        "    print(\"Reject the null hypothesis. There is a statistically significant difference in average salaries between genders.\")\n",
        "else:\n",
        "    print(\"Fail to reject the null hypothesis. There is no statistically significant difference in average salaries between genders.\")"
      ],
      "metadata": {
        "colab": {
          "base_uri": "https://localhost:8080/"
        },
        "id": "v5XKAfpkrni8",
        "outputId": "ca5fb6e5-c731-4f3e-fe52-255d4f6ed41f"
      },
      "execution_count": null,
      "outputs": [
        {
          "output_type": "stream",
          "name": "stdout",
          "text": [
            "T-statistic: 0.06\n",
            "P-value: 0.952\n",
            "Fail to reject the null hypothesis. There is no statistically significant difference in average salaries between genders.\n"
          ]
        }
      ]
    },
    {
      "cell_type": "markdown",
      "source": [
        "Q19. A manufacturer produces two different versions of a product and wants to compare their quality scores.\n",
        "Create a Python function to analyze quality assessment data, calculate the t-statistic, and decide\n",
        "whether there's a significant difference in quality between the two versions.\n",
        "\n",
        "\n",
        "Use the following data:\n",
        "\n",
        "\n",
        "```python\n",
        "\n",
        "version1_scores = [85, 88, 82, 89, 87, 84, 90, 88, 85, 86, 91, 83, 87, 84, 89, 86, 84, 88, 85, 86, 89, 90, 87, 88, 85]\n",
        "\n",
        "version2_scores = [80, 78, 83, 81, 79, 82, 76, 80, 78, 81, 77, 82, 80, 79, 82, 79, 80, 81, 79, 82, 79, 78, 80, 81, 82]\n",
        "\n",
        "```"
      ],
      "metadata": {
        "id": "fIlxv9ozrnrl"
      }
    },
    {
      "cell_type": "code",
      "source": [
        "from scipy import stats\n",
        "\n",
        "def compare_product_versions(version1_scores, version2_scores):\n",
        "    \"\"\"\n",
        "    Compares quality scores of two product versions using a t-test.\n",
        "\n",
        "    Args:\n",
        "        version1_scores (list): Quality scores for version 1.\n",
        "        version2_scores (list): Quality scores for version 2.\n",
        "\n",
        "    Returns:\n",
        "        tuple: t-statistic, p-value.\n",
        "    \"\"\"\n",
        "    t_statistic, p_value = stats.ttest_ind(version1_scores, version2_scores)\n",
        "    return t_statistic, p_value\n",
        "\n",
        "# Example usage\n",
        "version1_scores = [85, 88, 82, 89, 87, 84, 90, 88, 85, 86, 91, 83, 87, 84, 89, 86, 84, 88, 85, 86, 89, 90, 87, 88, 85]\n",
        "version2_scores = [80, 78, 83, 81, 79, 82, 76, 80, 78, 81, 77, 82, 80, 79, 82, 79, 80, 81, 79, 82, 79, 78, 80, 81, 82]\n",
        "\n",
        "t_statistic, p_value = compare_product_versions(version1_scores, version2_scores)\n",
        "\n",
        "print(f\"T-statistic: {t_statistic:.2f}\")\n",
        "print(f\"P-value: {p_value:.3f}\")\n",
        "\n",
        "# Interpret the results\n",
        "alpha = 0.05  # Significance level\n",
        "if p_value < alpha:\n",
        "    print(\"Reject the null hypothesis. There is a significant difference in quality between the two versions.\")\n",
        "else:\n",
        "    print(\"Fail to reject the null hypothesis. There is no significant difference in quality between the two versions.\")\n"
      ],
      "metadata": {
        "colab": {
          "base_uri": "https://localhost:8080/"
        },
        "id": "OyFgFJJwrn-u",
        "outputId": "0b17aba8-9d29-4405-eb69-81d3019cf687"
      },
      "execution_count": null,
      "outputs": [
        {
          "output_type": "stream",
          "name": "stdout",
          "text": [
            "T-statistic: 11.33\n",
            "P-value: 0.000\n",
            "Reject the null hypothesis. There is a significant difference in quality between the two versions.\n"
          ]
        }
      ]
    },
    {
      "cell_type": "markdown",
      "source": [
        "Q20. A restaurant chain collects customer satisfaction scores for two different branches. Write a program to\n",
        "analyze the scores, calculate the t-statistic, and determine if there's a statistically significant difference in\n",
        "customer satisfaction between the branches.\n",
        "\n",
        "\n",
        "Use the below data of scores:\n",
        "\n",
        "  ```python\n",
        "\n",
        "branch_a_scores = [4, 5, 3, 4, 5, 4, 5, 3, 4, 4, 5, 4, 4, 3, 4, 5, 5, 4, 3, 4, 5, 4, 3, 5, 4, 4, 5, 3, 4, 5, 4]\n",
        "\n",
        "branch_b_scores = [3, 4, 2, 3, 4, 3, 4, 2, 3, 3, 4, 3, 3, 2, 3, 4, 4, 3, 2, 3, 4, 3, 2, 4, 3, 3, 4, 2, 3, 4, 3]"
      ],
      "metadata": {
        "id": "aaWorkwQroYN"
      }
    },
    {
      "cell_type": "code",
      "source": [
        "from scipy import stats\n",
        "\n",
        "branch_a_scores = [4, 5, 3, 4, 5, 4, 5, 3, 4, 4, 5, 4, 4, 3, 4, 5, 5, 4, 3, 4, 5, 4, 3, 5, 4, 4, 5, 3, 4, 5, 4]\n",
        "branch_b_scores = [3, 4, 2, 3, 4, 3, 4, 2, 3, 3, 4, 3, 3, 2, 3, 4, 4, 3, 2, 3, 4, 3, 2, 4, 3, 3, 4, 2, 3, 4, 3]\n",
        "\n",
        "# Perform the t-test\n",
        "t_statistic, p_value = stats.ttest_ind(branch_a_scores, branch_b_scores)\n",
        "\n",
        "print(f\"T-statistic: {t_statistic:.2f}\")\n",
        "print(f\"P-value: {p_value:.3f}\")\n",
        "\n",
        "# Interpret the results\n",
        "alpha = 0.05  # Significance level\n",
        "if p_value < alpha:\n",
        "    print(\"Reject the null hypothesis. There is a statistically significant difference in customer satisfaction between the branches.\")\n",
        "else:\n",
        "    print(\"Fail to reject the null hypothesis. There is no statistically significant difference in customer satisfaction between the branches.\")"
      ],
      "metadata": {
        "colab": {
          "base_uri": "https://localhost:8080/"
        },
        "id": "meYEunRgrokG",
        "outputId": "498a5de2-ec19-4587-e261-033c3ba117e7"
      },
      "execution_count": null,
      "outputs": [
        {
          "output_type": "stream",
          "name": "stdout",
          "text": [
            "T-statistic: 5.48\n",
            "P-value: 0.000\n",
            "Reject the null hypothesis. There is a statistically significant difference in customer satisfaction between the branches.\n"
          ]
        }
      ]
    },
    {
      "cell_type": "markdown",
      "source": [
        "Q21. A political analyst wants to determine if there is a significant association between age groups and voter\n",
        "preferences (Candidate A or Candidate B). They collect data from a sample of 500 voters and classify\n",
        "them into different age groups and candidate preferences. Perform a Chi-Square test to determine if\n",
        "there is a significant association between age groups and voter preferences.\n",
        "\n",
        "\n",
        "Use the below code to generate data:\n",
        "\n",
        "```python\n",
        "\n",
        "np.random.seed(0)\n",
        "\n",
        "age_groups = np.random.choice([ 18 30 , 31 50 , 51+', 51+'], size=30)\n",
        "\n",
        "voter_preferences = np"
      ],
      "metadata": {
        "id": "9C8PLxYbro2t"
      }
    },
    {
      "cell_type": "code",
      "source": [
        "np.random.seed(0)\n",
        "age_groups = np.random.choice(['18-30', '31-50', '51+'], size=500)\n",
        "voter_preferences = np.random.choice(['Candidate A', 'Candidate B'], size=500)\n",
        "\n",
        "# Create a contingency table\n",
        "data = {'Age Group': age_groups, 'Voter Preference': voter_preferences}\n",
        "df = pd.DataFrame(data)\n",
        "contingency_table = pd.crosstab(df['Age Group'], df['Voter Preference'])\n",
        "\n",
        "# Perform the Chi-Square test\n",
        "chi2, p_value, dof, expected = stats.chi2_contingency(contingency_table)\n",
        "\n",
        "print(f\"Chi-square statistic: {chi2:.2f}\")\n",
        "print(f\"P-value: {p_value:.3f}\")\n",
        "print(f\"Degrees of freedom: {dof}\")\n",
        "\n",
        "# Interpret the results\n",
        "alpha = 0.05  # Significance level\n",
        "if p_value < alpha:\n",
        "    print(\"Reject the null hypothesis. There is a significant association between age groups and voter preferences.\")\n",
        "else:\n",
        "    print(\"Fail to reject the null hypothesis. There is no significant association between age groups and voter preferences.\")"
      ],
      "metadata": {
        "colab": {
          "base_uri": "https://localhost:8080/"
        },
        "id": "cdKE6PDSs4Ef",
        "outputId": "96c73268-3f25-44ac-c6d4-e8250b3a9673"
      },
      "execution_count": null,
      "outputs": [
        {
          "output_type": "stream",
          "name": "stdout",
          "text": [
            "Chi-square statistic: 0.88\n",
            "P-value: 0.645\n",
            "Degrees of freedom: 2\n",
            "Fail to reject the null hypothesis. There is no significant association between age groups and voter preferences.\n"
          ]
        }
      ]
    },
    {
      "cell_type": "markdown",
      "source": [
        "Q22. A company conducted a customer satisfaction survey to determine if there is a significant relationship\n",
        "between product satisfaction levels (Satisfied, Neutral, Dissatisfied) and the region where customers are\n",
        "located (East, West, North, South). The survey data is summarized in a contingency table. Conduct a Chi\u0002Square test to determine if there is a significant relationship between product satisfaction levels and\n",
        "customer regions.\n",
        "\n",
        "\n",
        "Sample data:\n",
        "\n",
        "```python\n",
        "\n",
        "#Sample data: Product satisfaction levels (rows) vs. Customer regions (columns)\n",
        "\n",
        "data = np.array([[50, 30, 40, 20], [30, 40, 30, 50], [20, 30, 40, 30]])\n",
        "\n",
        "```"
      ],
      "metadata": {
        "id": "oga31pHWs40G"
      }
    },
    {
      "cell_type": "code",
      "source": [
        "data = np.array([[50, 30, 40, 20], [30, 40, 30, 50], [20, 30, 40, 30]])\n",
        "\n",
        "# Perform the Chi-Square test\n",
        "chi2, p_value, dof, expected = stats.chi2_contingency(data)\n",
        "\n",
        "print(f\"Chi-square statistic: {chi2:.2f}\")\n",
        "print(f\"P-value: {p_value:.3f}\")\n",
        "print(f\"Degrees of freedom: {dof}\")\n",
        "\n",
        "# Interpret the results\n",
        "alpha = 0.05  # Significance level\n",
        "if p_value < alpha:\n",
        "    print(\"Reject the null hypothesis. There is a significant relationship between product satisfaction and customer regions.\")\n",
        "else:\n",
        "    print(\"Fail to reject the null hypothesis. There is no significant relationship between product satisfaction and customer regions.\")"
      ],
      "metadata": {
        "colab": {
          "base_uri": "https://localhost:8080/"
        },
        "id": "acBSomHas5EJ",
        "outputId": "c24dfecf-dc52-4ff2-93cf-b77182941d68"
      },
      "execution_count": null,
      "outputs": [
        {
          "output_type": "stream",
          "name": "stdout",
          "text": [
            "Chi-square statistic: 27.78\n",
            "P-value: 0.000\n",
            "Degrees of freedom: 6\n",
            "Reject the null hypothesis. There is a significant relationship between product satisfaction and customer regions.\n"
          ]
        }
      ]
    },
    {
      "cell_type": "markdown",
      "source": [
        "Q23. A company implemented an employee training program to improve job performance (Effective, Neutral,\n",
        "Ineffective). After the training, they collected data from a sample of employees and classified them based\n",
        "on their job performance before and after the training. Perform a Chi-Square test to determine if there is a\n",
        "significant difference between job performance levels before and after the training.\n",
        "\n",
        "\n",
        "Sample data:\n",
        "\n",
        "```python\n",
        "\n",
        "# Sample data: Job performance levels before (rows) and after (columns) training\n",
        "\n",
        "data = np.array([[50, 30, 20], [30, 40, 30], [20, 30, 40]])\n",
        "\n",
        "```"
      ],
      "metadata": {
        "id": "Ocamr-Kts5Q_"
      }
    },
    {
      "cell_type": "code",
      "source": [
        "data = np.array([[50, 30, 20], [30, 40, 30], [20, 30, 40]])\n",
        "\n",
        "# Perform the Chi-Square test\n",
        "chi2, p_value, dof, expected = stats.chi2_contingency(data)\n",
        "\n",
        "print(f\"Chi-square statistic: {chi2:.2f}\")\n",
        "print(f\"P-value: {p_value:.3f}\")\n",
        "print(f\"Degrees of freedom: {dof}\")\n",
        "\n",
        "# Interpret the results\n",
        "alpha = 0.05  # Significance level\n",
        "if p_value < alpha:\n",
        "    print(\"Reject the null hypothesis. There is a significant difference in job performance levels before and after training.\")\n",
        "else:\n",
        "    print(\"Fail to reject the null hypothesis. There is no significant difference in job performance levels before and after training.\")"
      ],
      "metadata": {
        "colab": {
          "base_uri": "https://localhost:8080/"
        },
        "id": "ijfGVTays5cO",
        "outputId": "6a31f5f1-da75-4403-f3d3-8d36fcde1b3d"
      },
      "execution_count": null,
      "outputs": [
        {
          "output_type": "stream",
          "name": "stdout",
          "text": [
            "Chi-square statistic: 22.16\n",
            "P-value: 0.000\n",
            "Degrees of freedom: 4\n",
            "Reject the null hypothesis. There is a significant difference in job performance levels before and after training.\n"
          ]
        }
      ]
    },
    {
      "cell_type": "markdown",
      "source": [
        "Q24. A company produces three different versions of a product: Standard, Premium, and Deluxe. The\n",
        "company wants to determine if there is a significant difference in customer satisfaction scores among the\n",
        "three product versions. They conducted a survey and collected customer satisfaction scores for each\n",
        "version from a random sample of customers. Perform an ANOVA test to determine if there is a significant\n",
        "difference in customer satisfaction scores.\n",
        "\n",
        "\n",
        "  Use the following data:\n",
        "\n",
        "  ```python\n",
        "\n",
        "  # Sample data: Customer satisfaction scores for each product version\n",
        "\n",
        "  standard_scores = [80, 85, 90, 78, 88, 82, 92, 78, 85, 87]\n",
        "\n",
        "  premium_scores = [90, 92, 88, 92, 95, 91, 96, 93, 89, 93]\n",
        "\n",
        "  deluxe_scores = [95, 98, 92, 97, 96, 94, 98, 97, 92, 99]\n",
        "\n",
        "  ``'"
      ],
      "metadata": {
        "id": "kGnqog4ds5n3"
      }
    },
    {
      "cell_type": "code",
      "source": [
        "standard_scores = [80, 85, 90, 78, 88, 82, 92, 78, 85, 87]\n",
        "premium_scores = [90, 92, 88, 92, 95, 91, 96, 93, 89, 93]\n",
        "deluxe_scores = [95, 98, 92, 97, 96, 94, 98, 97, 92, 99]\n",
        "\n",
        "# Perform the ANOVA test\n",
        "f_statistic, p_value = stats.f_oneway(standard_scores, premium_scores, deluxe_scores)\n",
        "\n",
        "print(f\"F-statistic: {f_statistic:.2f}\")\n",
        "print(f\"P-value: {p_value:.3f}\")\n",
        "\n",
        "# Interpret the results\n",
        "alpha = 0.05  # Significance level\n",
        "if p_value < alpha:\n",
        "    print(\"Reject the null hypothesis. There is a significant difference in customer satisfaction scores among the three product versions.\")\n",
        "else:\n",
        "    print(\"Fail to reject the null hypothesis. There is no significant difference in customer satisfaction scores among the three product versions.\")"
      ],
      "metadata": {
        "colab": {
          "base_uri": "https://localhost:8080/"
        },
        "id": "n6Bk7cVGs5wf",
        "outputId": "2a6f815d-eb78-400c-dd32-402661d4b585"
      },
      "execution_count": null,
      "outputs": [
        {
          "output_type": "stream",
          "name": "stdout",
          "text": [
            "F-statistic: 27.04\n",
            "P-value: 0.000\n",
            "Reject the null hypothesis. There is a significant difference in customer satisfaction scores among the three product versions.\n"
          ]
        }
      ]
    }
  ]
}