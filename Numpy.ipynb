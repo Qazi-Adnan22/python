{
  "nbformat": 4,
  "nbformat_minor": 0,
  "metadata": {
    "colab": {
      "provenance": [],
      "authorship_tag": "ABX9TyPGXs2WngtDSpqEYE3tm8ou",
      "include_colab_link": true
    },
    "kernelspec": {
      "name": "python3",
      "display_name": "Python 3"
    },
    "language_info": {
      "name": "python"
    }
  },
  "cells": [
    {
      "cell_type": "markdown",
      "metadata": {
        "id": "view-in-github",
        "colab_type": "text"
      },
      "source": [
        "<a href=\"https://colab.research.google.com/github/Qazi-Adnan22/python/blob/main/Numpy.ipynb\" target=\"_parent\"><img src=\"https://colab.research.google.com/assets/colab-badge.svg\" alt=\"Open In Colab\"/></a>"
      ]
    },
    {
      "cell_type": "markdown",
      "source": [
        "# **Assignment - Numpy**\n",
        "\n",
        "## **Theoretical Questions :-**"
      ],
      "metadata": {
        "id": "ftetz3d2SBov"
      }
    },
    {
      "cell_type": "markdown",
      "source": [
        "# **Q1- . Explain the purpose and advantages of NumPy in scientific computing and data analysis. How does it enhance Python's capabilities for numerical operations?**\n",
        "**Ans -** NumPy, short for Numerical Python, is a powerful library in Python that provides extensive support for numerical operations and scientific computing. Its primary purpose is to facilitate the handling and manipulation of large, multi-dimensional arrays and matrices, alongside a collection of mathematical functions to operate on these arrays efficiently.\n",
        "\n",
        "### **Purpose of NumPy**\n",
        "\n",
        "1. **Array Representation**: NumPy introduces the `ndarray` object, which is a fast, flexible container for large datasets in Python. This allows users to work with data in multi-dimensional arrays more intuitively.\n",
        "\n",
        "2. **Performance**: NumPy is optimized for performance, leveraging contiguous memory allocation and efficient looping mechanisms. Operations on NumPy arrays can be significantly faster than those on standard Python lists, especially for large datasets.\n",
        "\n",
        "3. **Mathematical Functions**: It provides a rich set of mathematical functions to perform operations such as linear algebra, statistical analysis, Fourier transforms, and more, making it a core tool for scientific computing.\n",
        "\n",
        "4. **Interoperability**: NumPy serves as a foundation for many other libraries in the scientific computing ecosystem, such as SciPy, Pandas, and Matplotlib, enhancing Python's capabilities for data analysis and visualization.\n",
        "\n",
        "### **Advantages of NumPy**\n",
        "\n",
        "1. **Speed**: NumPy operations are implemented in C, allowing them to run faster than pure Python loops. This is especially important for large datasets where performance is crucial.\n",
        "\n",
        "2. **Memory Efficiency**: NumPy arrays require less memory than Python lists due to their fixed data type and contiguous memory allocation, making them more efficient for large-scale data storage.\n",
        "\n",
        "3. **Convenient Syntax**: The syntax for array operations is more concise and expressive compared to traditional Python lists, allowing for cleaner and more readable code.\n",
        "\n",
        "4. **Broadcasting**: NumPy supports broadcasting, which allows operations to be performed on arrays of different shapes without explicit looping. This feature simplifies coding and enhances performance.\n",
        "\n",
        "5. **Comprehensive Functionality**: The library offers a wide range of functions for mathematical computations, random number generation, and linear algebra, making it versatile for various scientific tasks.\n",
        "\n",
        "6. **Community and Ecosystem**: With a large user base and active community, NumPy benefits from continuous development and a wealth of resources, tutorials, and documentation, facilitating learning and support.\n",
        "\n",
        "### **Enhancements to Python's Numerical Capabilities**\n",
        "\n",
        "1. **N-dimensional Arrays**: While Python lists can hold any data type, they are not optimized for numerical operations. NumPy’s `ndarray` allows for efficient storage and manipulation of numerical data in multi-dimensional arrays.\n",
        "\n",
        "2. **Element-wise Operations**: NumPy allows for element-wise operations on arrays, making it easy to perform mathematical computations without explicit loops.\n",
        "\n",
        "3. **Advanced Indexing and Slicing**: NumPy provides advanced indexing capabilities that simplify the extraction and manipulation of data from arrays, including slicing, masking, and more.\n",
        "\n",
        "4. **Integration with Other Libraries**: NumPy’s array structure is the foundation for other libraries such as SciPy (for scientific computing), Pandas (for data manipulation and analysis), and Matplotlib (for data visualization), creating a cohesive ecosystem for scientific computing in Python.\n"
      ],
      "metadata": {
        "id": "qLHAgMgaSai0"
      }
    },
    {
      "cell_type": "markdown",
      "source": [
        "# **Q2- Compare and contrast np.mean() and np.average() functions in NumPy. When would you use one over the other?**\n",
        "**Ans -** The `np.mean()` and `np.average()` functions in NumPy are both used to calculate the average of elements in an array, but they have some key differences in functionality and flexibility.\n",
        "\n",
        "### `np.mean()`\n",
        "\n",
        "- **Purpose**: Computes the arithmetic mean (average) of the elements along a specified axis.\n",
        "- **Syntax**: `np.mean(a, axis=None, dtype=None, out=None, keepdims=False)`\n",
        "- **Default Behavior**: By default, it calculates the mean of all elements in the input array.\n",
        "- **Parameters**:\n",
        "  - `a`: Input array.\n",
        "  - `axis`: Axis or axes along which to compute the mean. Default is `None`, meaning the mean is computed over the entire array.\n",
        "  - `dtype`: Data type to use for the calculation.\n",
        "  - `out`: A location into which the result is stored (optional).\n",
        "  - `keepdims`: If True, the reduced axes are left in the result as dimensions with size one.\n",
        "\n",
        "### `np.average()`\n",
        "\n",
        "- **Purpose**: Computes the weighted average of the elements in an array.\n",
        "- **Syntax**: `np.average(a, axis=None, weights=None, returned=False)`\n",
        "- **Default Behavior**: Computes the mean of all elements if no weights are provided, similar to `np.mean()`.\n",
        "- **Parameters**:\n",
        "  - `a`: Input array.\n",
        "  - `axis`: Axis or axes along which to compute the average.\n",
        "  - `weights`: An array of weights, same shape as `a`. If provided, the average is weighted accordingly.\n",
        "  - `returned`: If True, returns a tuple of the average and the sum of the weights.\n",
        "\n",
        "### **Key Differences**\n",
        "\n",
        "1. **Functionality**:\n",
        "   - `np.mean()` always calculates the arithmetic mean.\n",
        "   - `np.average()` can calculate a weighted average if the `weights` parameter is provided, making it more versatile.\n",
        "\n",
        "2. **Use Cases**:\n",
        "   - Use `np.mean()` when you need a simple arithmetic mean of your data.\n",
        "   - Use `np.average()` when you want to consider different contributions of values through weights.\n",
        "\n",
        "### **When to Use One Over the Other**\n",
        "\n",
        "- **Use `np.mean()`** when:\n",
        "  - You need a straightforward average of values.\n",
        "  - You don’t have weights to apply.\n",
        "\n",
        "- **Use `np.average()`** when:\n",
        "  - You need to calculate a weighted average where some values contribute more to the average than others.\n",
        "  - You need additional functionality, such as the option to return the sum of the weights along with the average.\n",
        "\n",
        "### **Example**\n"
      ],
      "metadata": {
        "id": "q6TjyglSTtjc"
      }
    },
    {
      "cell_type": "code",
      "source": [
        "import numpy as np\n",
        "\n",
        "data = np.array([1, 2, 3, 4, 5])\n",
        "\n",
        "# Using np.mean()\n",
        "mean_value = np.mean(data)\n",
        "print(\"Mean:\", mean_value)  # Output: Mean: 3.0\n",
        "\n",
        "# Using np.average() without weights\n",
        "average_value = np.average(data)\n",
        "print(\"Average:\", average_value)  # Output: Average: 3.0\n",
        "\n",
        "# Using np.average() with weights\n",
        "weights = np.array([1, 1, 1, 2, 2])  # Giving more weight to the last two elements\n",
        "weighted_average = np.average(data, weights=weights)\n",
        "print(\"Weighted Average:\", weighted_average)  # Output: Weighted Average: 3.6"
      ],
      "metadata": {
        "colab": {
          "base_uri": "https://localhost:8080/"
        },
        "id": "E46GC4vLUaS1",
        "outputId": "ed039fec-ce56-49fd-9a71-a35e6e12186d"
      },
      "execution_count": 1,
      "outputs": [
        {
          "output_type": "stream",
          "name": "stdout",
          "text": [
            "Mean: 3.0\n",
            "Average: 3.0\n",
            "Weighted Average: 3.4285714285714284\n"
          ]
        }
      ]
    },
    {
      "cell_type": "markdown",
      "source": [
        "# **Q3-  Describe the methods for reversing a NumPy array along different axes. Provide examples for 1D and 2D arrays.**\n",
        "**Ans -** Reversing a NumPy array can be done easily using slicing or specific functions. Here’s how you can reverse both 1D and 2D arrays along different axes.\n",
        "\n",
        "### **Reversing a 1D Array**\n",
        "\n",
        "To reverse a 1D array, you can use slicing. The syntax `array[::-1]` effectively reverses the order of elements.\n",
        "\n",
        "**Example:**\n",
        "\n",
        "\n",
        "\n"
      ],
      "metadata": {
        "id": "9Kh220SwUlsd"
      }
    },
    {
      "cell_type": "code",
      "source": [
        "import numpy as np\n",
        "\n",
        "# Create a 1D array\n",
        "array_1d = np.array([1, 2, 3, 4, 5])\n",
        "\n",
        "# Reverse the 1D array\n",
        "reversed_1d = array_1d[::-1]\n",
        "print(\"Original 1D array:\", array_1d)  # Output: [1 2 3 4 5]\n",
        "print(\"Reversed 1D array:\", reversed_1d)  # Output: [5 4 3 2 1]"
      ],
      "metadata": {
        "colab": {
          "base_uri": "https://localhost:8080/"
        },
        "id": "s0nSNdzuVT9_",
        "outputId": "1523c576-d3bc-4e4f-d46d-055345c21484"
      },
      "execution_count": 2,
      "outputs": [
        {
          "output_type": "stream",
          "name": "stdout",
          "text": [
            "Original 1D array: [1 2 3 4 5]\n",
            "Reversed 1D array: [5 4 3 2 1]\n"
          ]
        }
      ]
    },
    {
      "cell_type": "markdown",
      "source": [
        "## **Reversing a 2D Array**\n",
        "\n",
        "For 2D arrays, you can reverse along different axes. The syntax is similar, but you specify the axis to reverse.\n",
        "\n",
        "  Reversing along the rows (axis=0): This reverses the order of the rows.\n",
        "\n",
        "  Reversing along the columns (axis=1): This reverses the order of the columns.\n",
        "\n",
        "## **Example:**"
      ],
      "metadata": {
        "id": "6zv4GyLyVYoq"
      }
    },
    {
      "cell_type": "code",
      "source": [
        "# Create a 2D array\n",
        "array_2d = np.array([[1, 2, 3],\n",
        "                     [4, 5, 6],\n",
        "                     [7, 8, 9]])\n",
        "\n",
        "# Reverse along rows (axis=0)\n",
        "reversed_rows = array_2d[::-1]\n",
        "print(\"Original 2D array:\\n\", array_2d)\n",
        "print(\"Reversed along rows:\\n\", reversed_rows)\n",
        "\n",
        "# Reverse along columns (axis=1)\n",
        "reversed_columns = array_2d[:, ::-1]\n",
        "print(\"Reversed along columns:\\n\", reversed_columns)"
      ],
      "metadata": {
        "colab": {
          "base_uri": "https://localhost:8080/"
        },
        "id": "pJ2qLHIhVomd",
        "outputId": "5020bb9e-6b44-4ab0-f104-7b3c033b8b83"
      },
      "execution_count": 3,
      "outputs": [
        {
          "output_type": "stream",
          "name": "stdout",
          "text": [
            "Original 2D array:\n",
            " [[1 2 3]\n",
            " [4 5 6]\n",
            " [7 8 9]]\n",
            "Reversed along rows:\n",
            " [[7 8 9]\n",
            " [4 5 6]\n",
            " [1 2 3]]\n",
            "Reversed along columns:\n",
            " [[3 2 1]\n",
            " [6 5 4]\n",
            " [9 8 7]]\n"
          ]
        }
      ]
    },
    {
      "cell_type": "markdown",
      "source": [
        "# **Q4-  How can you determine the data type of elements in a NumPy array? Discuss the importance of data types in memory management and performance.**\n",
        "**Ans -** In NumPy, you can determine the data type of elements in an array using the `.dtype` attribute. This attribute returns the data type of the array's elements, which can be useful for understanding how the data is stored and manipulated.\n",
        "\n",
        "### **Determining the Data Type**\n",
        "\n",
        "Here’s how you can check the data type of a NumPy array:\n",
        "\n",
        "\n",
        "\n"
      ],
      "metadata": {
        "id": "m71THbHiVuAt"
      }
    },
    {
      "cell_type": "code",
      "source": [
        "import numpy as np\n",
        "\n",
        "# Create a NumPy array\n",
        "array = np.array([1, 2, 3, 4, 5])\n",
        "\n",
        "# Determine the data type\n",
        "data_type = array.dtype\n",
        "print(\"Data type of the array:\", data_type)  # Output: int64 (or int32 depending on the system)"
      ],
      "metadata": {
        "colab": {
          "base_uri": "https://localhost:8080/"
        },
        "id": "E0aY5ZffWTO3",
        "outputId": "557e580c-e7c5-409a-f022-02d8c50a5251"
      },
      "execution_count": 4,
      "outputs": [
        {
          "output_type": "stream",
          "name": "stdout",
          "text": [
            "Data type of the array: int64\n"
          ]
        }
      ]
    },
    {
      "cell_type": "markdown",
      "source": [
        "### **Importance of Data Types**\n",
        "\n",
        "1. **Memory Management**:\n",
        "   - **Efficient Storage**: Different data types consume different amounts of memory. For example, an `int32` takes 4 bytes, while an `int64` takes 8 bytes. Using the appropriate data type can significantly reduce memory usage, especially for large datasets.\n",
        "   - **Data Type Casting**: You can explicitly specify the data type when creating an array (e.g., `np.array([1, 2, 3], dtype=np.float32)`) to optimize memory usage. This can be crucial in environments with limited resources.\n",
        "\n",
        "2. **Performance**:\n",
        "   - **Speed of Operations**: Operations on arrays of smaller data types (e.g., `float32` vs. `float64`) can be faster because they require less memory bandwidth and processing power. This can lead to better performance in computations.\n",
        "   - **Vectorized Operations**: NumPy’s performance benefits from using contiguous memory blocks for uniform data types. This allows for optimized, vectorized operations, which are much faster than looping through individual elements in pure Python.\n",
        "\n",
        "3. **Data Integrity**:\n",
        "   - **Type Consistency**: Ensuring that all elements in an array are of the same type prevents errors that might arise from mixing data types (e.g., integer and string) and provides clearer semantics for numerical operations.\n",
        "   - **Control Over Numerical Precision**: The choice of data type allows control over precision and range. For example, using `float16` can save memory but may introduce rounding errors that would not occur with `float64`."
      ],
      "metadata": {
        "id": "AIMGxr8pWTyp"
      }
    },
    {
      "cell_type": "markdown",
      "source": [
        "# **Q5- Define ndarrays in NumPy and explain their key features. How do they differ from standard Python lists?**\n",
        "**Ans -** In NumPy, **ndarrays** (n-dimensional arrays) are the core data structure used for storing and manipulating numerical data. They are highly efficient and optimized for performance in scientific computing and data analysis. Here’s a detailed explanation of ndarrays and their key features, along with a comparison to standard Python lists.\n",
        "\n",
        "### **Key Features of ndarrays**\n",
        "\n",
        "1. **Homogeneous Data Types**:\n",
        "   - All elements in a NumPy array must be of the same data type, which allows for optimized storage and faster computation. This is different from Python lists, which can contain mixed data types.\n",
        "\n",
        "2. **Multidimensional**:\n",
        "   - Ndarrays can be one-dimensional, two-dimensional, or n-dimensional (hence the name). This flexibility allows for the representation of complex data structures, such as matrices or tensors.\n",
        "\n",
        "3. **Efficient Memory Usage**:\n",
        "   - Ndarrays are stored in contiguous memory locations, which improves cache performance and reduces memory overhead. This leads to lower memory usage compared to Python lists.\n",
        "\n",
        "4. **Vectorized Operations**:\n",
        "   - NumPy supports vectorized operations, which allow for element-wise operations without the need for explicit loops. This enhances performance and leads to more concise and readable code.\n",
        "\n",
        "5. **Broadcasting**:\n",
        "   - NumPy can automatically expand the dimensions of arrays to perform operations on arrays of different shapes. This feature simplifies coding when dealing with different array sizes.\n",
        "\n",
        "6. **Rich Functionality**:\n",
        "   - NumPy provides a wide range of built-in functions for mathematical operations, statistical analysis, linear algebra, Fourier transforms, and more. This extensive functionality makes it a powerful tool for scientific computing.\n",
        "\n",
        "7. **Shape and Reshape**:\n",
        "   - Ndarrays have a shape attribute that defines the size of each dimension. You can easily reshape arrays to different dimensions without altering their data.\n",
        "\n",
        "### **Differences from Standard Python Lists**\n",
        "\n",
        "| Feature                      | NumPy Ndarrays                        | Python Lists                   |\n",
        "|------------------------------|---------------------------------------|--------------------------------|\n",
        "| **Data Type**                | Homogeneous (same type)               | Heterogeneous (mixed types)    |\n",
        "| **Memory Layout**            | Contiguous memory allocation           | Non-contiguous memory allocation|\n",
        "| **Performance**              | Faster for numerical operations        | Slower for numerical operations  |\n",
        "| **Operations**               | Supports vectorized operations         | Requires explicit loops         |\n",
        "| **Dimensionality**           | Can be multi-dimensional               | Primarily one-dimensional      |\n",
        "| **Built-in Functions**       | Extensive mathematical functions       | Limited to basic operations     |\n",
        "| **Shape Management**         | Shape attribute for easy manipulation  | No built-in shape management    |\n",
        "\n",
        "### Example\n",
        "\n",
        "Here’s a simple example to illustrate the differences:\n",
        "\n"
      ],
      "metadata": {
        "id": "iAUg6lIlWeof"
      }
    },
    {
      "cell_type": "code",
      "source": [
        "import numpy as np\n",
        "\n",
        "# Creating a NumPy ndarray\n",
        "array = np.array([[1, 2, 3], [4, 5, 6]])\n",
        "\n",
        "# Accessing the shape and data type\n",
        "print(\"Ndarray shape:\", array.shape)  # Output: (2, 3)\n",
        "print(\"Ndarray data type:\", array.dtype)  # Output: int64 (or int32 depending on the system)\n",
        "\n",
        "# Vectorized operation\n",
        "result = array * 2\n",
        "print(\"Vectorized operation result:\\n\", result)\n",
        "\n",
        "# Creating a Python list\n",
        "list_data = [[1, 2, 3], [4, 5, 'six']]  # Mixed types\n",
        "\n",
        "# Accessing elements\n",
        "print(\"Python list:\", list_data)"
      ],
      "metadata": {
        "colab": {
          "base_uri": "https://localhost:8080/"
        },
        "id": "vphpofP5XBYZ",
        "outputId": "3b4b105f-5527-4ad7-b4fb-8f5a877b3af4"
      },
      "execution_count": 5,
      "outputs": [
        {
          "output_type": "stream",
          "name": "stdout",
          "text": [
            "Ndarray shape: (2, 3)\n",
            "Ndarray data type: int64\n",
            "Vectorized operation result:\n",
            " [[ 2  4  6]\n",
            " [ 8 10 12]]\n",
            "Python list: [[1, 2, 3], [4, 5, 'six']]\n"
          ]
        }
      ]
    },
    {
      "cell_type": "markdown",
      "source": [
        "# **Q6- Analyze the performance benefits of NumPy arrays over Python lists for large-scale numerical operations.**\n",
        "**Ans -** The performance benefits of NumPy arrays over Python lists for large-scale numerical operations are significant and stem from several key factors. Here’s a detailed analysis of why NumPy arrays are generally preferred for numerical computations in Python:\n",
        "\n",
        "### 1. **Memory Efficiency**\n",
        "\n",
        "- **Contiguous Memory Allocation**: NumPy arrays are stored in contiguous blocks of memory, which enhances cache performance. This allows for faster access times compared to Python lists, which store references to objects scattered in memory.\n",
        "- **Fixed Data Types**: NumPy arrays require all elements to be of the same data type, allowing for more compact storage. In contrast, Python lists can contain mixed types, leading to additional memory overhead for type management.\n",
        "\n",
        "### 2. **Performance of Numerical Operations**\n",
        "\n",
        "- **Vectorization**: NumPy allows for vectorized operations, meaning that operations can be performed on entire arrays without the need for explicit loops. This is not only syntactically simpler but also much faster, as NumPy uses optimized C and Fortran libraries under the hood.\n",
        "  \n",
        "  **For example, adding two arrays element-wise can be done directly:**\n",
        "\n",
        "\n",
        "\n",
        "\n"
      ],
      "metadata": {
        "id": "_7Fm8ZHRXKj1"
      }
    },
    {
      "cell_type": "code",
      "source": [
        "import numpy as np\n",
        "\n",
        "# NumPy arrays\n",
        "a = np.array([1, 2, 3, 4])\n",
        "b = np.array([5, 6, 7, 8])\n",
        "c = a + b  # Vectorized addition"
      ],
      "metadata": {
        "id": "LurNjIpqXmQO"
      },
      "execution_count": 7,
      "outputs": []
    },
    {
      "cell_type": "markdown",
      "source": [
        "- **Broadcasting**: NumPy supports broadcasting, allowing operations on arrays of different shapes without the need for manual expansion. This feature enables efficient computation while minimizing the need for additional memory allocation.\n",
        "\n",
        "### 3. **Use of Optimized Libraries**\n",
        "\n",
        "- **BLAS and LAPACK**: NumPy leverages highly optimized libraries like BLAS (Basic Linear Algebra Subprograms) and LAPACK (Linear Algebra Package) for performing complex mathematical operations. These libraries are written in low-level languages like C and Fortran, providing significant performance advantages over Python implementations.\n",
        "\n",
        "### 4. **Reduced Overhead**\n",
        "\n",
        "- **Less Overhead**: Operations on NumPy arrays have less overhead than those on Python lists. For example, each operation on a Python list involves more checks (like type checking) and higher-level abstractions, while NumPy operations are lower-level and optimized.\n",
        "\n",
        "### 5. **Parallelism and Optimization**\n",
        "\n",
        "- **NumPy’s Built-in Optimizations**: Many operations in NumPy are optimized for performance through parallel processing and other techniques. This can result in substantial speedups, especially for large-scale operations.\n",
        "  \n",
        "- **Compiled Code**: Operations in NumPy are executed in compiled code (C/Fortran), while Python lists rely on interpreted Python code, which is inherently slower.\n",
        "\n",
        "### Performance Comparison Example\n",
        "\n",
        "To illustrate the performance benefits, consider the following example where we compare the performance of NumPy arrays and Python lists for a large-scale numerical operation, such as element-wise addition:"
      ],
      "metadata": {
        "id": "vpF0TYmNXnQz"
      }
    },
    {
      "cell_type": "code",
      "source": [
        "import numpy as np\n",
        "import time\n",
        "\n",
        "# Large-scale data\n",
        "size = 10**6\n",
        "list_a = list(range(size))\n",
        "list_b = list(range(size))\n",
        "\n",
        "# Timing Python list addition\n",
        "start_time = time.time()\n",
        "list_result = [a + b for a, b in zip(list_a, list_b)]\n",
        "print(\"Python list addition time:\", time.time() - start_time)\n",
        "\n",
        "# Creating NumPy arrays\n",
        "array_a = np.array(list_a)\n",
        "array_b = np.array(list_b)\n",
        "\n",
        "# Timing NumPy array addition\n",
        "start_time = time.time()\n",
        "array_result = array_a + array_b\n",
        "print(\"NumPy array addition time:\", time.time() - start_time)"
      ],
      "metadata": {
        "colab": {
          "base_uri": "https://localhost:8080/"
        },
        "id": "m70FcT4pXz1W",
        "outputId": "507ede7c-b580-434f-8b38-a8ad351367f1"
      },
      "execution_count": 6,
      "outputs": [
        {
          "output_type": "stream",
          "name": "stdout",
          "text": [
            "Python list addition time: 0.10906863212585449\n",
            "NumPy array addition time: 0.005140066146850586\n"
          ]
        }
      ]
    },
    {
      "cell_type": "markdown",
      "source": [
        "### **Expected Output**\n",
        "\n",
        "Typically, you would observe that the NumPy array addition is significantly faster than the Python list addition. The actual speedup can be several orders of magnitude, especially as the size of the data increases."
      ],
      "metadata": {
        "id": "kQjwGVAqXoTa"
      }
    },
    {
      "cell_type": "markdown",
      "source": [
        "# **Q7-  Compare vstack() and hstack() functions in NumPy. Provide examples demonstrating their usage and output.**\n",
        "**Ans -** In NumPy, the `vstack()` and `hstack()` functions are used to stack arrays vertically and horizontally, respectively. These functions are particularly useful when you want to combine multiple arrays along specific axes.\n",
        "\n",
        "### 1. `vstack()`\n",
        "\n",
        "- **Purpose**: Stacks arrays in sequence vertically (row-wise). It is equivalent to concatenating along the first axis (axis=0).\n",
        "- **Input Requirement**: The input arrays must have the same shape along all but the first axis.\n",
        "\n",
        "**Example of `vstack()`**:\n",
        "\n",
        "\n",
        "\n",
        "\n",
        "\n",
        "\n",
        "\n",
        "\n",
        "\n"
      ],
      "metadata": {
        "id": "nR3CFTSlYbZo"
      }
    },
    {
      "cell_type": "code",
      "source": [
        "import numpy as np\n",
        "\n",
        "# Create two 2D arrays\n",
        "array1 = np.array([[1, 2, 3],\n",
        "                   [4, 5, 6]])\n",
        "\n",
        "array2 = np.array([[7, 8, 9],\n",
        "                   [10, 11, 12]])\n",
        "\n",
        "# Stack the arrays vertically\n",
        "result_vstack = np.vstack((array1, array2))\n",
        "print(\"Result of vstack:\\n\", result_vstack)"
      ],
      "metadata": {
        "colab": {
          "base_uri": "https://localhost:8080/"
        },
        "id": "vpVbYMjxZS25",
        "outputId": "4ac01170-8d78-4402-865d-654cad4a962d"
      },
      "execution_count": 9,
      "outputs": [
        {
          "output_type": "stream",
          "name": "stdout",
          "text": [
            "Result of vstack:\n",
            " [[ 1  2  3]\n",
            " [ 4  5  6]\n",
            " [ 7  8  9]\n",
            " [10 11 12]]\n"
          ]
        }
      ]
    },
    {
      "cell_type": "markdown",
      "source": [
        "\n",
        "### 2. `hstack()`\n",
        "\n",
        "- **Purpose**: Stacks arrays in sequence horizontally (column-wise). It is equivalent to concatenating along the second axis (axis=1).\n",
        "- **Input Requirement**: The input arrays must have the same shape along all but the second axis.\n",
        "\n",
        "**Example of `hstack()`**:"
      ],
      "metadata": {
        "id": "pOXS4ZRtZQJN"
      }
    },
    {
      "cell_type": "code",
      "source": [
        "# Create two 2D arrays\n",
        "array1 = np.array([[1, 2, 3],\n",
        "                   [4, 5, 6]])\n",
        "\n",
        "array2 = np.array([[7, 8, 9],\n",
        "                   [10, 11, 12]])\n",
        "\n",
        "# Stack the arrays horizontally\n",
        "result_hstack = np.hstack((array1, array2))\n",
        "print(\"Result of hstack:\\n\", result_hstack)"
      ],
      "metadata": {
        "colab": {
          "base_uri": "https://localhost:8080/"
        },
        "id": "sY31gtAuY9iR",
        "outputId": "72b129cc-1f27-4a7b-9ba8-df2cef602537"
      },
      "execution_count": 8,
      "outputs": [
        {
          "output_type": "stream",
          "name": "stdout",
          "text": [
            "Result of hstack:\n",
            " [[ 1  2  3  7  8  9]\n",
            " [ 4  5  6 10 11 12]]\n"
          ]
        }
      ]
    },
    {
      "cell_type": "markdown",
      "source": [
        "# **Q8- Explain the differences between fliplr() and flipud() methods in NumPy, including their effects on various array dimensions.**\n",
        "**Ans -** In NumPy, the `fliplr()` and `flipud()` functions are used to flip (reverse) the elements of arrays along specific axes. Here's a detailed explanation of the differences between these two methods, along with their effects on various array dimensions.\n",
        "\n",
        "### 1. `fliplr()`\n",
        "\n",
        "- **Purpose**: Flips an array from left to right (horizontally). It is specifically used for 2D arrays.\n",
        "- **Effect**: For a 2D array, `fliplr()` reverses the order of columns.\n",
        "\n",
        "**Example of `fliplr()`**:\n",
        "\n"
      ],
      "metadata": {
        "id": "0_TucFooZa4q"
      }
    },
    {
      "cell_type": "code",
      "source": [
        "import numpy as np\n",
        "\n",
        "# Create a 2D array\n",
        "array_2d = np.array([[1, 2, 3],\n",
        "                     [4, 5, 6]])\n",
        "\n",
        "# Flip the array left to right\n",
        "flipped_lr = np.fliplr(array_2d)\n",
        "print(\"Original array:\\n\", array_2d)\n",
        "print(\"Flipped left to right:\\n\", flipped_lr)"
      ],
      "metadata": {
        "colab": {
          "base_uri": "https://localhost:8080/"
        },
        "id": "Ik6fr8jLbsp8",
        "outputId": "f11d8d91-91c4-41e5-ee16-593b635e61b2"
      },
      "execution_count": 12,
      "outputs": [
        {
          "output_type": "stream",
          "name": "stdout",
          "text": [
            "Original array:\n",
            " [[1 2 3]\n",
            " [4 5 6]]\n",
            "Flipped left to right:\n",
            " [[3 2 1]\n",
            " [6 5 4]]\n"
          ]
        }
      ]
    },
    {
      "cell_type": "markdown",
      "source": [
        "\n",
        "### 2. `flipud()`\n",
        "\n",
        "- **Purpose**: Flips an array from up to down (vertically). It is also primarily used for 2D arrays.\n",
        "- **Effect**: For a 2D array, `flipud()` reverses the order of rows.\n",
        "\n",
        "**Example of `flipud()`**:\n"
      ],
      "metadata": {
        "id": "A8S1JvSLbooT"
      }
    },
    {
      "cell_type": "code",
      "source": [
        "# Flip the array up to down\n",
        "flipped_ud = np.flipud(array_2d)\n",
        "print(\"Flipped up to down:\\n\", flipped_ud)"
      ],
      "metadata": {
        "colab": {
          "base_uri": "https://localhost:8080/"
        },
        "id": "S-9W6c3KbTPG",
        "outputId": "f467f14d-be01-4dfd-de91-ec01f5aa15f7"
      },
      "execution_count": 11,
      "outputs": [
        {
          "output_type": "stream",
          "name": "stdout",
          "text": [
            "Flipped up to down:\n",
            " [[7 8 9]\n",
            " [4 5 6]\n",
            " [1 2 3]]\n"
          ]
        }
      ]
    },
    {
      "cell_type": "markdown",
      "source": [
        "\n",
        "### Effects on Various Array Dimensions\n",
        "\n",
        "- **2D Arrays**:\n",
        "  - **`fliplr()`**: Reverses columns.\n",
        "  - **`flipud()`**: Reverses rows.\n",
        "\n",
        "- **1D Arrays**:\n",
        "  - Both functions have the same effect because a 1D array has only one axis to flip. Using either function will reverse the order of elements in the array.\n",
        "\n",
        "  **Example**:\n"
      ],
      "metadata": {
        "id": "KCAV4MX-bNa_"
      }
    },
    {
      "cell_type": "code",
      "source": [
        "array_1d = np.array([1, 2, 3, 4])\n",
        "\n",
        "# Flipping a 1D array\n",
        "flipped_lr_1d = np.fliplr(array_1d.reshape(1, -1))  # Reshape to 2D for fliplr\n",
        "flipped_ud_1d = np.flipud(array_1d.reshape(1, -1))  # Reshape to 2D for flipud\n",
        "\n",
        "print(\"Original 1D array:\", array_1d)\n",
        "print(\"Flipped left to right (as 2D):\", flipped_lr_1d.flatten())\n",
        "print(\"Flipped up to down (as 2D):\", flipped_ud_1d.flatten())"
      ],
      "metadata": {
        "colab": {
          "base_uri": "https://localhost:8080/"
        },
        "id": "S3KHd5Rza_js",
        "outputId": "06d61931-952e-40c7-9a7d-e6b732b6cd0f"
      },
      "execution_count": 10,
      "outputs": [
        {
          "output_type": "stream",
          "name": "stdout",
          "text": [
            "Original 1D array: [1 2 3 4]\n",
            "Flipped left to right (as 2D): [4 3 2 1]\n",
            "Flipped up to down (as 2D): [1 2 3 4]\n"
          ]
        }
      ]
    },
    {
      "cell_type": "markdown",
      "source": [
        "### Summary of Differences\n",
        "\n",
        "| Function   | Axis of Flip        | Effect on 2D Arrays        | Effect on 1D Arrays        |\n",
        "|------------|---------------------|-----------------------------|-----------------------------|\n",
        "| `fliplr()` | Horizontal (columns) | Reverses columns            | Same as `flipud()` (in 2D) |\n",
        "| `flipud()` | Vertical (rows)      | Reverses rows               | Same as `fliplr()` (in 2D) |\n",
        "\n",
        "In conclusion, `fliplr()` and `flipud()` are useful for flipping arrays along specific axes, and understanding their effects on different dimensions is important for data manipulation in NumPy."
      ],
      "metadata": {
        "id": "KSP6ZDGYa4qE"
      }
    },
    {
      "cell_type": "markdown",
      "source": [
        "# **Q9-  Discuss the functionality of the array_split() method in NumPy. How does it handle uneven splits?**\n",
        "**Ans -** The `array_split()` function in NumPy is a versatile method used to split an array into multiple sub-arrays. It is particularly useful when you want to divide data for analysis or processing without requiring equal-sized splits.\n",
        "\n",
        "### Functionality of `array_split()`\n",
        "\n",
        "\n",
        "\n",
        "\n",
        "\n",
        "\n",
        "\n",
        "\n",
        "\n",
        "\n"
      ],
      "metadata": {
        "id": "4GfbJUDGb2QY"
      }
    },
    {
      "cell_type": "code",
      "source": [
        "numpy.array_split(ary, indices_or_sections, axis=0)"
      ],
      "metadata": {
        "id": "qdcan449dEgX"
      },
      "execution_count": null,
      "outputs": []
    },
    {
      "cell_type": "markdown",
      "source": [
        "\n",
        "- **Parameters**:\n",
        "  - **`ary`**: The input array to be split.\n",
        "  - **`indices_or_sections`**: This can be either an integer or a sequence of indices. If it’s an integer, it specifies the number of equal sections to split the array into. If it’s a sequence, it specifies the exact indices at which to split.\n",
        "  - **`axis`**: The axis along which to split the array. The default is `0`, meaning that the split occurs along the first dimension.\n",
        "\n",
        "- **Returns**: A list of sub-arrays created from the split."
      ],
      "metadata": {
        "id": "i7wzLDBydANQ"
      }
    },
    {
      "cell_type": "markdown",
      "source": [
        "### Example of `array_split()`\n",
        "\n",
        "#### Equal Splits\n",
        "\n",
        "When the number of sections is evenly divisible by the length of the array, `array_split()` creates equal-sized sub-arrays.\n"
      ],
      "metadata": {
        "id": "aNOvpyYcc1JL"
      }
    },
    {
      "cell_type": "code",
      "source": [
        "import numpy as np\n",
        "\n",
        "# Create a 1D array\n",
        "array_1d = np.array([1, 2, 3, 4, 5, 6])\n",
        "\n",
        "# Split into 3 equal parts\n",
        "split_equal = np.array_split(array_1d, 3)\n",
        "print(\"Equal splits:\", split_equal)"
      ],
      "metadata": {
        "colab": {
          "base_uri": "https://localhost:8080/"
        },
        "id": "dS74TCIAcoi_",
        "outputId": "0f0c4e0b-906d-4401-de27-726818c749b7"
      },
      "execution_count": 14,
      "outputs": [
        {
          "output_type": "stream",
          "name": "stdout",
          "text": [
            "Equal splits: [array([1, 2]), array([3, 4]), array([5, 6])]\n"
          ]
        }
      ]
    },
    {
      "cell_type": "markdown",
      "source": [
        "#### Uneven Splits\n",
        "\n",
        "If the array cannot be split evenly, `array_split()` will distribute the elements as evenly as possible. This means some sub-arrays may contain one more element than others."
      ],
      "metadata": {
        "id": "MHWTkYbUceyY"
      }
    },
    {
      "cell_type": "code",
      "source": [
        "# Split into 4 parts\n",
        "split_uneven = np.array_split(array_1d, 4)\n",
        "print(\"Uneven splits:\", split_uneven)"
      ],
      "metadata": {
        "colab": {
          "base_uri": "https://localhost:8080/"
        },
        "id": "XWKUjn6ucgq6",
        "outputId": "15cd7702-311b-46dd-c8eb-02a01ecf7c5d"
      },
      "execution_count": 13,
      "outputs": [
        {
          "output_type": "stream",
          "name": "stdout",
          "text": [
            "Uneven splits: [array([1]), array([2]), array([3]), array([4])]\n"
          ]
        }
      ]
    },
    {
      "cell_type": "markdown",
      "source": [
        "In this example, because the array has 6 elements and is being split into 4 parts, the resulting sub-arrays are distributed such that two sub-arrays contain 2 elements, and the other two contain 1 element each."
      ],
      "metadata": {
        "id": "VWCw7zACdIzc"
      }
    },
    {
      "cell_type": "markdown",
      "source": [
        "# **Q10- . Explain the concepts of vectorization and broadcasting in NumPy. How do they contribute to efficient array operations?**\n",
        "**Ans -** In NumPy, **vectorization** and **broadcasting** are two powerful concepts that significantly enhance the efficiency of array operations. They allow for high-performance numerical computations without the need for explicit loops, making code more concise and easier to read.\n",
        "\n",
        "### **1. Vectorization**\n",
        "\n",
        "**Definition**: Vectorization refers to the process of replacing explicit loops in code with array operations that operate on entire arrays (or large chunks of them) at once. This takes advantage of NumPy's underlying implementation in C and Fortran, which is optimized for performance.\n",
        "\n",
        "#### **Benefits of Vectorization:**\n",
        "\n",
        "- **Performance**: Vectorized operations are executed at a lower level, leading to faster execution compared to loops written in Python.\n",
        "- **Code Clarity**: Code becomes cleaner and more readable. Instead of writing loops, you can express operations succinctly.\n",
        "\n",
        "**Example of Vectorization**:\n",
        "\n",
        "Without vectorization, you might write:\n",
        "\n",
        "\n",
        "\n",
        "\n",
        "\n",
        "\n",
        "\n",
        "\n",
        "\n"
      ],
      "metadata": {
        "id": "H6dWL9q7dM5K"
      }
    },
    {
      "cell_type": "code",
      "source": [
        "import numpy as np\n",
        "\n",
        "# Create two arrays\n",
        "a = np.array([1, 2, 3])\n",
        "b = np.array([4, 5, 6])\n",
        "\n",
        "# Using a loop\n",
        "result = np.empty_like(a)\n",
        "for i in range(len(a)):\n",
        "    result[i] = a[i] + b[i]\n",
        "print(result)"
      ],
      "metadata": {
        "colab": {
          "base_uri": "https://localhost:8080/"
        },
        "id": "AyMFW80JeHKb",
        "outputId": "d58987b4-1936-49d2-aa33-3102fb636b3c"
      },
      "execution_count": 17,
      "outputs": [
        {
          "output_type": "stream",
          "name": "stdout",
          "text": [
            "[5 7 9]\n"
          ]
        }
      ]
    },
    {
      "cell_type": "markdown",
      "source": [
        "**With vectorization, you can do:**"
      ],
      "metadata": {
        "id": "n7sYyWiQeBht"
      }
    },
    {
      "cell_type": "code",
      "source": [
        "# Vectorized addition\n",
        "result_vectorized = a + b\n",
        "print(result_vectorized)"
      ],
      "metadata": {
        "colab": {
          "base_uri": "https://localhost:8080/"
        },
        "id": "cdZrfQ71d56X",
        "outputId": "621c5284-17d6-4227-9eb3-3edd34b2d069"
      },
      "execution_count": 16,
      "outputs": [
        {
          "output_type": "stream",
          "name": "stdout",
          "text": [
            "[[11 12 13]\n",
            " [21 22 23]\n",
            " [31 32 33]]\n"
          ]
        }
      ]
    },
    {
      "cell_type": "markdown",
      "source": [
        "### **2. Broadcasting**\n",
        "\n",
        "**Definition**: Broadcasting is a technique that allows NumPy to perform operations on arrays of different shapes. When performing arithmetic operations on arrays, NumPy automatically expands the smaller array across the larger array so that they have compatible shapes.\n",
        "\n",
        "#### **Rules for Broadcasting:**\n",
        "\n",
        "1. **If the arrays have a different number of dimensions**, the shape of the smaller-dimensional array is padded with ones on the left side until both shapes are the same.\n",
        "2. **If the sizes of the dimensions are different**, broadcasting occurs when one of the dimensions is 1. The array with size 1 in that dimension is expanded to match the size of the other array.\n",
        "\n",
        "#### **Benefits of Broadcasting:**\n",
        "\n",
        "- **Efficiency**: Reduces memory usage and computational overhead since it avoids the creation of large temporary arrays.\n",
        "- **Simplicity**: Enables operations between arrays of different shapes without needing to manually replicate data.\n",
        "\n",
        "**Example of Broadcasting**:"
      ],
      "metadata": {
        "id": "VrkeBcqId1V3"
      }
    },
    {
      "cell_type": "code",
      "source": [
        "# Create a 1D array and a 2D array\n",
        "a = np.array([1, 2, 3])        # Shape (3,)\n",
        "b = np.array([[10], [20], [30]])  # Shape (3, 1)\n",
        "\n",
        "# Broadcasting the operation\n",
        "result_broadcasted = a + b\n",
        "print(result_broadcasted)"
      ],
      "metadata": {
        "colab": {
          "base_uri": "https://localhost:8080/"
        },
        "id": "neYu2lKSdr63",
        "outputId": "c5701f10-064d-46e4-bc34-d142396dd5e1"
      },
      "execution_count": 15,
      "outputs": [
        {
          "output_type": "stream",
          "name": "stdout",
          "text": [
            "[[11 12 13]\n",
            " [21 22 23]\n",
            " [31 32 33]]\n"
          ]
        }
      ]
    },
    {
      "cell_type": "markdown",
      "source": [
        "Here, the 1D array `a` is broadcasted across the 2D array `b`, allowing the addition to occur without explicitly reshaping or replicating `a`.\n",
        "\n",
        "### Contribution to Efficient Array Operations\n",
        "\n",
        "1. **Reduced Execution Time**: Vectorization and broadcasting leverage optimized low-level implementations, resulting in faster execution of operations than traditional Python loops.\n",
        "2. **Simplified Code**: These techniques allow you to write more straightforward and expressive code, focusing on the operations rather than the mechanics of iteration.\n",
        "3. **Memory Efficiency**: Broadcasting eliminates the need for creating multiple copies of arrays, thus saving memory and improving performance, especially with large datasets.\n"
      ],
      "metadata": {
        "id": "KmvfJ6wPdlWF"
      }
    }
  ]
}