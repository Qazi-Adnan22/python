{
 "cells": [
  {
   "cell_type": "code",
   "execution_count": 1,
   "id": "6a0ddbd4-5111-4f8f-92f1-5f1b8c294c76",
   "metadata": {},
   "outputs": [],
   "source": [
    "#1. Arithmetic Operators\n",
    "\n",
    "#Addition (+): Adds two values\n",
    "a = 5\n",
    "b = 3\n",
    "result = a + b  # result is 8\n",
    "\n",
    "#Subtraction (-): Subtracts one value from another.\n",
    "result = a - b  # result is 2\n",
    "\n",
    "#Multiplication (*): Multiplies two values.\n",
    "result = a * b  # result is 15\n",
    "\n",
    "#Division (/): Divides one value by another (returns a float).\n",
    "result = a / b  # result is 1.6667\n",
    "\n",
    "#Floor Division (//): Divides one value by another and returns the integer part.\n",
    "result = a // b  # result is 1\n",
    "\n",
    "#Modulus (%): Returns the remainder of the division\n",
    "result = a % b  # result is 2\n",
    "\n",
    "#Exponentiation (**): Raises one value to the power of another.\n",
    "result = a ** b  # result is 125"
   ]
  },
  {
   "cell_type": "code",
   "execution_count": null,
   "id": "2dc8c4f5-d688-41be-9d06-ed8715b846fc",
   "metadata": {},
   "outputs": [],
   "source": [
    "#2. Comparison Operators\n",
    "\n",
    "#Equal to (==): Checks if two values are equal.\n",
    "result = (a == b)  # result is False\n",
    "\n",
    "#Not equal to (!=): Checks if two values are not equal.\n",
    "result = (a != b)  # result is True\n",
    "\n",
    "#Greater than (>): Checks if one value is greater than another.\n",
    "result = (a > b)  # result is True\n",
    "\n",
    "#Less than (<): Checks if one value is less than another.\n",
    "result = (a < b)  # result is False\n",
    "\n",
    "#Greater than or equal to (>=): Checks if one value is greater than or equal to another.\n",
    "result = (a >= b)  # result is True\n",
    "\n",
    "#Less than or equal to (<=): Checks if one value is less than or equal to another.\n",
    "result = (a <= b)  # result is False"
   ]
  },
  {
   "cell_type": "code",
   "execution_count": null,
   "id": "e737b5cb-1fc4-4690-85d6-ee052ee4a7e0",
   "metadata": {},
   "outputs": [],
   "source": [
    "#3. Logical Operators\n",
    "\n",
    "#And (and): Returns True if both conditions are true.\n",
    "result = (a > b) and (b > 0)  # result is True\n",
    "\n",
    "#Or (or): Returns True if at least one condition is true.\n",
    "result = (a > b) or (b < 0)  # result is True\n",
    "\n",
    "#Not (not): Returns True if the condition is false\n",
    "result = not (a > b)  # result is False"
   ]
  },
  {
   "cell_type": "code",
   "execution_count": null,
   "id": "f3b56133-4df3-45b4-a081-ed4aca7ddeae",
   "metadata": {},
   "outputs": [],
   "source": [
    "#4. Assignment Operators\n",
    "\n",
    "#Assignment (=): Assigns a value to a variable.\n",
    "x = 10\n",
    "\n",
    "#Addition Assignment (+=): Adds a value to a variable and assigns the result.\n",
    "x += 5  # x is now 15\n",
    "\n",
    "#Subtraction Assignment (-=): Subtracts a value from a variable and assigns the result.\n",
    "x -= 3  # x is now 12\n",
    "\n",
    "#Multiplication Assignment (*=): Multiplies a variable by a value and assigns the result.\n",
    "x *= 2  # x is now 24\n",
    "\n",
    "#Division Assignment (/=): Divides a variable by a value and assigns the result.\n",
    "x /= 4  # x is now 6.0\n",
    "\n",
    "#Modulus Assignment (%=): Applies the modulus operation and assigns the result.\n",
    "x %= 4  # x is now 2.0\n",
    "\n",
    "#Exponentiation Assignment (**=): Raises a variable to the power of a value and assigns the result.\n",
    "x **= 3  # x is now 8.0\n",
    "\n",
    "#Floor Division Assignment (//=): Applies floor division and assigns the result.\n",
    "x //= 3  # x is now 2.0"
   ]
  },
  {
   "cell_type": "code",
   "execution_count": null,
   "id": "42dde0d4-28de-4714-8d80-5b5b93d8ed37",
   "metadata": {},
   "outputs": [],
   "source": [
    "#5. Bitwise Operators\n",
    "\n",
    "#AND (&): Performs a bitwise AND operation.\n",
    "a = 6  # 0110 in binary\n",
    "b = 3  # 0011 in binary\n",
    "result = a & b  # result is 2 (0010 in binary)\n",
    "\n",
    "#OR (|): Performs a bitwise OR operation.\n",
    "result = a | b  # result is 7 (0111 in binary)\n",
    "\n",
    "#XOR (^): Performs a bitwise XOR operation\n",
    "result = a ^ b  # result is 5 (0101 in binary)\n",
    "\n",
    "#Complement (~): Performs a bitwise NOT operation\n",
    "result = ~a  # result is -7 (inverted bits of 0110)\n",
    "\n",
    "#Left Shift (<<): Shifts bits to the left.\n",
    "result = a << 1  # result is 12 (1100 in binary)\n",
    "\n",
    "#Right Shift (>>): Shifts bits to the right.\n",
    "result = a >> 1  # result is 3 (0011 in binary)"
   ]
  },
  {
   "cell_type": "code",
   "execution_count": null,
   "id": "1e02e1de-c68f-43cb-92ef-7472839f6628",
   "metadata": {},
   "outputs": [],
   "source": [
    "#6. Membership Operators\n",
    "\n",
    "#In (in): Checks if a value exists in a sequence.\n",
    "my_list = [1, 2, 3]\n",
    "result = 2 in my_list  # result is True\n",
    "\n",
    "#Not in (not in): Checks if a value does not exist in a sequence.\n",
    "result = 4 not in my_list  # result is True"
   ]
  },
  {
   "cell_type": "code",
   "execution_count": null,
   "id": "827e4481-dcf5-47c0-a320-9da56e0b1aa6",
   "metadata": {},
   "outputs": [],
   "source": [
    "#7. Identity Operators\n",
    "\n",
    "#Is (is): Checks if two variables refer to the same object.\n",
    "a = [1, 2, 3]\n",
    "b = a\n",
    "result = (a is b)  # result is True\n",
    "\n",
    "#Is not (is not): Checks if two variables do not refer to the same object.\n",
    "c = [1, 2, 3]\n",
    "result = (a is not c)  # result is True"
   ]
  }
 ],
 "metadata": {
  "kernelspec": {
   "display_name": "Python 3 (ipykernel)",
   "language": "python",
   "name": "python3"
  },
  "language_info": {
   "codemirror_mode": {
    "name": "ipython",
    "version": 3
   },
   "file_extension": ".py",
   "mimetype": "text/x-python",
   "name": "python",
   "nbconvert_exporter": "python",
   "pygments_lexer": "ipython3",
   "version": "3.10.8"
  }
 },
 "nbformat": 4,
 "nbformat_minor": 5
}
