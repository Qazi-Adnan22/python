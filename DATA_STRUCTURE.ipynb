{
  "nbformat": 4,
  "nbformat_minor": 0,
  "metadata": {
    "colab": {
      "provenance": [],
      "authorship_tag": "ABX9TyPt/1npZx7oDnB/qIhvAR8y",
      "include_colab_link": true
    },
    "kernelspec": {
      "name": "python3",
      "display_name": "Python 3"
    },
    "language_info": {
      "name": "python"
    }
  },
  "cells": [
    {
      "cell_type": "markdown",
      "metadata": {
        "id": "view-in-github",
        "colab_type": "text"
      },
      "source": [
        "<a href=\"https://colab.research.google.com/github/Qazi-Adnan22/python/blob/main/DATA_STRUCTURE.ipynb\" target=\"_parent\"><img src=\"https://colab.research.google.com/assets/colab-badge.svg\" alt=\"Open In Colab\"/></a>"
      ]
    },
    {
      "cell_type": "markdown",
      "source": [
        "### **1- Write a code to reverse a string.**"
      ],
      "metadata": {
        "id": "OsmbtjpjANZv"
      }
    },
    {
      "cell_type": "code",
      "source": [
        "strings = \"Adnan\",\"Qazi\",\"student\",\"pwskills\"\n",
        "reversed_strings = tuple(s[::-1] for s in strings)\n",
        "print(reversed_strings)"
      ],
      "metadata": {
        "colab": {
          "base_uri": "https://localhost:8080/"
        },
        "id": "IYO7jErgBgCV",
        "outputId": "ceb920cf-6f48-42f8-c7dc-7828159d7e17"
      },
      "execution_count": 1,
      "outputs": [
        {
          "output_type": "stream",
          "name": "stdout",
          "text": [
            "('nandA', 'izaQ', 'tneduts', 'sllikswp')\n"
          ]
        }
      ]
    },
    {
      "cell_type": "markdown",
      "source": [
        "### **2- Write a code to count the number of vowels in a string**"
      ],
      "metadata": {
        "id": "EiBmRsFMCSQv"
      }
    },
    {
      "cell_type": "code",
      "source": [],
      "metadata": {
        "id": "M6iDSXxPCeYN"
      },
      "execution_count": null,
      "outputs": []
    }
  ]
}