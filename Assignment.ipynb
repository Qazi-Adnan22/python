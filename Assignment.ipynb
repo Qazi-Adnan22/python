{
  "nbformat": 4,
  "nbformat_minor": 0,
  "metadata": {
    "colab": {
      "provenance": [],
      "authorship_tag": "ABX9TyNMzVFgNN48q4Hl5+dmbLnQ",
      "include_colab_link": true
    },
    "kernelspec": {
      "name": "python3",
      "display_name": "Python 3"
    },
    "language_info": {
      "name": "python"
    }
  },
  "cells": [
    {
      "cell_type": "markdown",
      "metadata": {
        "id": "view-in-github",
        "colab_type": "text"
      },
      "source": [
        "<a href=\"https://colab.research.google.com/github/Qazi-Adnan22/python/blob/main/Assignment.ipynb\" target=\"_parent\"><img src=\"https://colab.research.google.com/assets/colab-badge.svg\" alt=\"Open In Colab\"/></a>"
      ]
    },
    {
      "cell_type": "markdown",
      "source": [
        "### **Q1- Write a code to reverse a string**\n",
        "\n",
        "\n",
        "\n"
      ],
      "metadata": {
        "id": "Pxr46Kk8qAxl"
      }
    },
    {
      "cell_type": "code",
      "source": [
        "import re\n",
        "\n",
        "def is_palindrome(s):\n",
        "    # Remove non-alphanumeric characters and convert to lowercase\n",
        "    cleaned_str = re.sub(r'[^a-zA-Z0-9]', '', s).lower()\n",
        "\n",
        "    # Check if the cleaned string reads the same forwards and backwards\n",
        "    return cleaned_str == cleaned_str[::-1]\n",
        "\n",
        "# Example usage\n",
        "input_string = \"A man, a plan, a canal, Panama!\"\n",
        "if is_palindrome(input_string):\n",
        "    print(f'\"{input_string}\" is a palindrome.')\n",
        "else:\n",
        "    print(f'\"{input_string}\" is not a palindrome.')\n"
      ],
      "metadata": {
        "id": "5HAZ74CrqTkv"
      },
      "execution_count": null,
      "outputs": []
    },
    {
      "cell_type": "markdown",
      "source": [
        "### **Q2- IJKBJGJF**\n",
        "**Ans -** kjjkjgkdf/klnkjvjflhiknknjghj"
      ],
      "metadata": {
        "id": "4b8HcnuWp-dE"
      }
    },
    {
      "cell_type": "code",
      "source": [],
      "metadata": {
        "id": "agoJzpf0qxYC"
      },
      "execution_count": null,
      "outputs": []
    }
  ]
}