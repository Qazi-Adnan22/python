{
 "cells": [
  {
   "cell_type": "code",
   "execution_count": 1,
   "id": "0d6c964b-4e90-4ad1-b75f-ec8c42508f22",
   "metadata": {},
   "outputs": [
    {
     "name": "stdout",
     "output_type": "stream",
     "text": [
      "The system is active.\n"
     ]
    }
   ],
   "source": [
    "#1. False, True>> Represent boolean values. False is used to indicate a negative or false condition, while True is used for a \n",
    "                  #positive or true condition.\n",
    "is_active = True\n",
    "\n",
    "if is_active:\n",
    "    print(\"The system is active.\")\n",
    "else:\n",
    "    print(\"The system is not active.\")"
   ]
  },
  {
   "cell_type": "code",
   "execution_count": 2,
   "id": "c36230cd-0ed7-4428-a28a-f0f90e2b9220",
   "metadata": {},
   "outputs": [
    {
     "name": "stdout",
     "output_type": "stream",
     "text": [
      "Hello, guest!\n",
      "Hello, Alice!\n"
     ]
    }
   ],
   "source": [
    "#2. None>> Represents the absence of a value or a null value. It is often used as a default value for function arguments or\n",
    "           #to signify that a variable has not been set.\n",
    "def greet(name=None):\n",
    "    if name is None:\n",
    "        print(\"Hello, guest!\")\n",
    "    else:\n",
    "        print(f\"Hello, {name}!\")\n",
    "\n",
    "greet() \n",
    "greet(\"Alice\")  "
   ]
  },
  {
   "cell_type": "code",
   "execution_count": 3,
   "id": "9253e6f7-d30c-404b-a753-7de9cf1c0849",
   "metadata": {},
   "outputs": [
    {
     "name": "stdout",
     "output_type": "stream",
     "text": [
      "Both conditions are True.\n"
     ]
    }
   ],
   "source": [
    "#3. and, or, not>> Logical operators used for combining or negating boolean expressions.\n",
    "x = 5\n",
    "y = 10\n",
    "\n",
    "if x < 10 and y > 5:\n",
    "    print(\"Both conditions are True.\")\n",
    "else:\n",
    "    print(\"At least one condition is False.\")"
   ]
  },
  {
   "cell_type": "code",
   "execution_count": 4,
   "id": "7cd79e28-faa5-433a-857a-d4245adc81d9",
   "metadata": {},
   "outputs": [
    {
     "name": "stdout",
     "output_type": "stream",
     "text": [
      "You are an adult.\n"
     ]
    }
   ],
   "source": [
    "#4. if, elif, else>> Used for conditional statements to control the flow of the program based on conditions.\n",
    "age = 20\n",
    "\n",
    "if age < 18:\n",
    "    print(\"You are a minor.\")\n",
    "elif 18 <= age < 65:\n",
    "    print(\"You are an adult.\")\n",
    "else:\n",
    "    print(\"You are a senior.\")"
   ]
  },
  {
   "cell_type": "code",
   "execution_count": 6,
   "id": "84044ad7-0d3a-434b-803b-1cb9cb9b7bde",
   "metadata": {},
   "outputs": [
    {
     "name": "stdout",
     "output_type": "stream",
     "text": [
      "0\n",
      "1\n",
      "2\n",
      "4\n"
     ]
    }
   ],
   "source": [
    "# 5. for, while, break, continue>> Used for loops and control flow within loops\n",
    "# for: Used to iterate over sequences.\n",
    "# while: Used to loop while a condition is true.\n",
    "# break: Exits the loop prematurely.\n",
    "# continue: Skips the rest of the code inside the loop for the current iteration.\n",
    "\n",
    "for i in range(5):\n",
    "    if i == 3:\n",
    "        continue\n",
    "    print(i)\n"
   ]
  },
  {
   "cell_type": "code",
   "execution_count": 7,
   "id": "0ab3e271-e774-4c0e-b0ea-9d9e51af7ba9",
   "metadata": {},
   "outputs": [
    {
     "name": "stdout",
     "output_type": "stream",
     "text": [
      "16\n"
     ]
    }
   ],
   "source": [
    "#6. def, return>> Used for defining functions and returning values from functions.\n",
    "\n",
    "def square(number):\n",
    "    return number * number\n",
    "\n",
    "result = square(4)\n",
    "print(result)  "
   ]
  },
  {
   "cell_type": "code",
   "execution_count": 8,
   "id": "b5424ef6-09e0-4310-9e46-8d85f68d4402",
   "metadata": {},
   "outputs": [
    {
     "name": "stdout",
     "output_type": "stream",
     "text": [
      "Buddy says Woof!\n"
     ]
    }
   ],
   "source": [
    "#7. class, self>> Used for defining classes and instance methods within those classes.\n",
    "\n",
    "class Dog:\n",
    "    def __init__(self, name):\n",
    "        self.name = name\n",
    "\n",
    "    def bark(self):\n",
    "        return f\"{self.name} says Woof!\"\n",
    "\n",
    "my_dog = Dog(\"Buddy\")\n",
    "print(my_dog.bark())  "
   ]
  },
  {
   "cell_type": "code",
   "execution_count": 9,
   "id": "1ebd30bf-ad87-4585-8d5a-983db9c763bd",
   "metadata": {},
   "outputs": [
    {
     "name": "stdout",
     "output_type": "stream",
     "text": [
      "Cannot divide by zero.\n",
      "This will always execute.\n"
     ]
    }
   ],
   "source": [
    "#8. try, except, finally, raise>> Used for handling exceptions and managing errors.\n",
    "# try: Starts a block of code that may raise an exception.\n",
    "# except: Catches and handles exceptions raised in the try block.\n",
    "# finally: Executes code regardless of whether an exception occurred or not.\n",
    "# raise: Used to manually raise an exception.\n",
    "\n",
    "try:\n",
    "    result = 10 / 0\n",
    "except ZeroDivisionError:\n",
    "    print(\"Cannot divide by zero.\")\n",
    "finally:\n",
    "    print(\"This will always execute.\")"
   ]
  },
  {
   "cell_type": "code",
   "execution_count": 10,
   "id": "e74b9281-dd88-46a7-8f02-39e1e545ff3f",
   "metadata": {},
   "outputs": [
    {
     "name": "stdout",
     "output_type": "stream",
     "text": [
      "4.0\n",
      "2024-09-04 09:13:13.138185\n"
     ]
    }
   ],
   "source": [
    "#9. import, from, as>> Used for importing modules and components from modules.\n",
    "\n",
    "import math\n",
    "from datetime import datetime as dt\n",
    "\n",
    "print(math.sqrt(16))\n",
    "print(dt.now())  "
   ]
  },
  {
   "cell_type": "code",
   "execution_count": 11,
   "id": "7b7645dc-88ec-412f-8fde-9d20d22cfefd",
   "metadata": {},
   "outputs": [],
   "source": [
    "#10. with, as>> Used for resource management, particularly for opening files and ensuring they are properly closed.\n",
    "\n",
    "with open('example.txt', 'w') as file:\n",
    "    file.write(\"Hello, World!\")\n",
    "\n",
    "# No need to explicitly close the file, it is handled by the 'with' statement"
   ]
  }
 ],
 "metadata": {
  "kernelspec": {
   "display_name": "Python 3 (ipykernel)",
   "language": "python",
   "name": "python3"
  },
  "language_info": {
   "codemirror_mode": {
    "name": "ipython",
    "version": 3
   },
   "file_extension": ".py",
   "mimetype": "text/x-python",
   "name": "python",
   "nbconvert_exporter": "python",
   "pygments_lexer": "ipython3",
   "version": "3.10.8"
  }
 },
 "nbformat": 4,
 "nbformat_minor": 5
}
