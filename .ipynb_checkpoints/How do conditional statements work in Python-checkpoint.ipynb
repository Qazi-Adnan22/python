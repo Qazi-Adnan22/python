{
 "cells": [
  {
   "cell_type": "code",
   "execution_count": null,
   "id": "044b7b8a-0e1c-43e4-a0d4-0bdc03290db5",
   "metadata": {},
   "outputs": [],
   "source": [
    "#syntax\n",
    "if condition1:\n",
    "    # Block of code to execute if condition1 is True\n",
    "elif condition2:\n",
    "    # Block of code to execute if condition1 is False and condition2 is True\n",
    "else:\n",
    "    # Block of code to execute if none of the above conditions are True"
   ]
  },
  {
   "cell_type": "code",
   "execution_count": 1,
   "id": "c96131bb-f9a1-4b60-8dd6-7e2c2f119f98",
   "metadata": {},
   "outputs": [
    {
     "name": "stdout",
     "output_type": "stream",
     "text": [
      "The number is positive.\n"
     ]
    }
   ],
   "source": [
    "#Example 1: Basic If-Else\n",
    "number = 7\n",
    "\n",
    "if number > 0:\n",
    "    print(\"The number is positive.\")\n",
    "elif number < 0:\n",
    "    print(\"The number is negative.\")\n",
    "else:\n",
    "    print(\"The number is zero.\")"
   ]
  },
  {
   "cell_type": "code",
   "execution_count": 2,
   "id": "f2225c0f-03e6-4b9d-a88b-799d06198f4d",
   "metadata": {},
   "outputs": [
    {
     "name": "stdout",
     "output_type": "stream",
     "text": [
      "The number is positive and even.\n"
     ]
    }
   ],
   "source": [
    "#Example 2: Nested If Statements\n",
    "number = 10\n",
    "\n",
    "if number > 0:\n",
    "    if number % 2 == 0:\n",
    "        print(\"The number is positive and even.\")\n",
    "    else:\n",
    "        print(\"The number is positive and odd.\")\n",
    "else:\n",
    "    print(\"The number is not positive.\")"
   ]
  },
  {
   "cell_type": "code",
   "execution_count": 3,
   "id": "f8fc7aff-6588-44a4-99fb-a3d8c2f2bb27",
   "metadata": {},
   "outputs": [
    {
     "name": "stdout",
     "output_type": "stream",
     "text": [
      "Grade: B\n"
     ]
    }
   ],
   "source": [
    "#Example 3: Using elif for Multiple Conditions\n",
    "score = 85\n",
    "\n",
    "if score >= 90:\n",
    "    print(\"Grade: A\")\n",
    "elif score >= 80:\n",
    "    print(\"Grade: B\")\n",
    "elif score >= 70:\n",
    "    print(\"Grade: C\")\n",
    "elif score >= 60:\n",
    "    print(\"Grade: D\")\n",
    "else:\n",
    "    print(\"Grade: F\")"
   ]
  },
  {
   "cell_type": "code",
   "execution_count": 4,
   "id": "348a6529-72f5-48b5-a787-e8aeb2c82d4b",
   "metadata": {},
   "outputs": [
    {
     "name": "stdout",
     "output_type": "stream",
     "text": [
      "You are allowed to enter.\n"
     ]
    }
   ],
   "source": [
    "#Example 4: Combining Conditions with Logical Operators\n",
    "age = 25\n",
    "has_id = True\n",
    "\n",
    "if age >= 18 and has_id:\n",
    "    print(\"You are allowed to enter.\")\n",
    "else:\n",
    "    print(\"You are not allowed to enter.\")"
   ]
  }
 ],
 "metadata": {
  "kernelspec": {
   "display_name": "Python 3 (ipykernel)",
   "language": "python",
   "name": "python3"
  },
  "language_info": {
   "codemirror_mode": {
    "name": "ipython",
    "version": 3
   },
   "file_extension": ".py",
   "mimetype": "text/x-python",
   "name": "python",
   "nbconvert_exporter": "python",
   "pygments_lexer": "ipython3",
   "version": "3.10.8"
  }
 },
 "nbformat": 4,
 "nbformat_minor": 5
}
