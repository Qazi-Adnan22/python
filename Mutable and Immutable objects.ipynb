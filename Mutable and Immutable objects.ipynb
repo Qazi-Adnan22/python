{
 "cells": [
  {
   "cell_type": "code",
   "execution_count": 1,
   "id": "98917790-4c61-4f9d-9ee3-0bd5c3feead5",
   "metadata": {},
   "outputs": [
    {
     "name": "stdout",
     "output_type": "stream",
     "text": [
      "125025291516480\n",
      "[1, 2, 3, 4]\n",
      "125025291516480\n",
      "125025291537920\n",
      "{'a': 1, 'b': 2, 'c': 3}\n",
      "125025291537920\n"
     ]
    }
   ],
   "source": [
    "#Mutable Objects\n",
    "\n",
    "# Mutable Example: List\n",
    "my_list = [1, 2, 3]\n",
    "print(id(my_list))  # Prints the memory address of my_list\n",
    "\n",
    "my_list.append(4)  # Modify the list\n",
    "print(my_list)     \n",
    "print(id(my_list))  # The memory address remains the same\n",
    "\n",
    "# Mutable Example: Dictionary\n",
    "my_dict = {'a': 1, 'b': 2}\n",
    "print(id(my_dict))  # Prints the memory address of my_dict\n",
    "\n",
    "my_dict['c'] = 3    # Modify the dictionary\n",
    "print(my_dict)     \n",
    "print(id(my_dict))  # The memory address remains the same"
   ]
  },
  {
   "cell_type": "code",
   "execution_count": 2,
   "id": "a4c821da-9afc-45e7-bf4d-1248488de297",
   "metadata": {},
   "outputs": [
    {
     "name": "stdout",
     "output_type": "stream",
     "text": [
      "125025360060976\n",
      "Hello World\n",
      "125025366399408\n",
      "125025291456704\n",
      "(1, 2, 3, 4)\n",
      "125025360352400\n"
     ]
    }
   ],
   "source": [
    "#Immutable Objects\n",
    "\n",
    "# Immutable Example: String\n",
    "my_string = \"Hello\"\n",
    "print(id(my_string))  # Prints the memory address of my_string\n",
    "\n",
    "my_string = my_string + \" World\"  # Create a new string\n",
    "print(my_string)   \n",
    "print(id(my_string))  # The memory address is different from the original\n",
    "\n",
    "# Immutable Example: Tuple\n",
    "my_tuple = (1, 2, 3)\n",
    "print(id(my_tuple))  # Prints the memory address of my_tuple\n",
    "\n",
    "my_tuple = my_tuple + (4,)  # Create a new tuple\n",
    "print(my_tuple)     \n",
    "print(id(my_tuple))  # The memory address is different from the original"
   ]
  }
 ],
 "metadata": {
  "kernelspec": {
   "display_name": "Python 3 (ipykernel)",
   "language": "python",
   "name": "python3"
  },
  "language_info": {
   "codemirror_mode": {
    "name": "ipython",
    "version": 3
   },
   "file_extension": ".py",
   "mimetype": "text/x-python",
   "name": "python",
   "nbconvert_exporter": "python",
   "pygments_lexer": "ipython3",
   "version": "3.10.8"
  }
 },
 "nbformat": 4,
 "nbformat_minor": 5
}
